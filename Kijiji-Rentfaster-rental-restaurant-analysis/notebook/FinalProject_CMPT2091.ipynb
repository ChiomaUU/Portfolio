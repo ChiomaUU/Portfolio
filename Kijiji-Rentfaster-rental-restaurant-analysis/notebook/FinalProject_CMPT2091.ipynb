{
  "cells": [
    {
      "cell_type": "markdown",
      "id": "OtsqAvQPY-Ca",
      "metadata": {
        "id": "OtsqAvQPY-Ca"
      },
      "source": [
        "# Final Project - Examining scrapped data from Kijiji and RentFaster using Spark and Yelp API [Partnership with Community Data Program]\n",
        "\n",
        "**Overview**\n",
        "\n",
        "In the dynamic field of Data/ML, engaging with Application Programming Interfaces (APIs) is a common practice, enabling the extraction of data or interaction with software. Nonetheless, not all applications/services offer API so it is important to understand how to extract data even in cases where an API is not available. Similarly, adapting to various data management techniques is essential across different companies or organizations. This project centers around gathering data from rental listings within Alberta, Canada, specifically focusing on platforms such as Kijiji and RentFaster. Additionally, you will be leveraging the Yelp API, you'll identify highly rated restaurants and analyze their proximity to these rental listings you scraped from RentFaster and Kijiji.\n",
        "\n",
        "The data acquisition phase is facilitated through a pre-developed web scraper, designed to streamline the process of extracting rental listings. This initiative is in collaboration with the Community Data Program, aiming to make rental listing data within Canada more accessible to communities with limited access. Initially focusing on Alberta, this project sets the groundwork for future expansion across other regions.\n",
        "\n",
        "Your task involves determining the pertinent data to extract, followed by managing this data within a distributed system, namely Apache Spark. Subsequently, you will perform data analysis and processing utilizing Spark SQL. This final project encourages collaboration in groups of up to 3 members (you are allowed to use the same members as your midterm), where active participation from all members is expected. It's crucial to note that your presentation will constitute 30% of your overall score, highlighting the importance of both teamwork and individual effort in the successful completion of this project.\n",
        "\n",
        "**Deliverables**\n",
        "\n",
        "\n",
        "1.  Your main jupyter notebook file with the proper execution of:\n",
        "   *  Part 1: Data Collection\n",
        "   *  Part 2: DataFrame, Tables creation and Yelp API setup\n",
        "   *  Part 3: Explore your data\n",
        "2.  The data collected from Part 1 in CSV format (Total of 4 CSV files for both Kijiji and RentFaster)\n",
        "3.  A presentation (done using the software of your choosing, PowerPoint, Canvas etc) where you will showcase Part 1 to 3 of your project. What we are specifically looking is the following:\n",
        "   *  Issues faced acquiring your data, this could be limitations with the web scraping procedure\n",
        "   *  Data quality issues such as missing values or difficulties when working with multiple data types and how to solve/consider those in your analysis\n",
        "   *  The highlights and correlations that you derived based on the analysis of the data, you should be able to answer the following questions:\n",
        "       * Is there a correlation between the rental price vs the quality/price of restaurants nearby?\n",
        "       * Is the data coming from Yelp of enough quality to drive insides?\n",
        "       * What would you do better or different to arrive at a more conclusive analysis?\n",
        "       * What are your next steps?\n",
        "       * Is this data pipeline you built enough to scale for big data?\n",
        "\n",
        "**Important NOTES**\n",
        "\n",
        "\n",
        "The presentation **IS NOT GOING TO BE A RECORDING**. It will be a live presentation either in-person or online where I will engage in questions with all of the team. If a member is not present, that person will lose automatically 30% of the total grade of the Final.\n",
        "\n",
        "\n",
        "*InPerson Students*\n",
        "\n",
        "\n",
        "*  The presentation will be held in-person on Monday April 22nd and Tuesday\n",
        "April 23rd (time to be decided).\n",
        "\n",
        "\n",
        "*Hyflex Students*\n",
        "*  You have the opportunity to present in-person (if you can make it) or schedule an online presentation with me. Either way you need to let me know\n",
        "\n",
        "\n",
        "**Due Date** You have until Saturday April 20th at Midnight to submit your code. But you still have time to work on your presentation as the presentation will be held on the 22th and 23th."
      ]
    },
    {
      "cell_type": "markdown",
      "id": "zn5Gyq1RDPdK",
      "metadata": {
        "id": "zn5Gyq1RDPdK"
      },
      "source": [
        "## Web Scraping Code\n",
        "In this section you will find everything you need to know about the Scraper we have built for you to get data from rentals within AB from RentFaster and Kijiji"
      ]
    },
    {
      "cell_type": "markdown",
      "id": "2lVm89NyHrol",
      "metadata": {
        "id": "2lVm89NyHrol"
      },
      "source": [
        "### Working with PlayWright\n",
        "\n",
        "Playwright is a tool developed by Microsoft that allows developers to automate interactions with web browsers. In simpler terms, it can control browsers programmatically to perform tasks like navigating through web pages, clicking buttons, filling out forms, and extracting information from websites, all through a script or program.\n",
        "\n",
        "Here’s why Playwright is particularly useful for web scraping rental listings in RentFaster and Kijiji:\n",
        "1. **Supports Multiple Browsers**: Playwright can control different browsers (like Chrome, Firefox, and Safari) using a single API. This makes it easier to scrape websites as they appear in various browsers without needing to adjust your code significantly for each one.\n",
        "\n",
        "2. **Headless Browsing**: It can run browsers in 'headless' mode, meaning it can navigate and interact with websites without actually opening a browser window. This speeds up the scraping process and allows for running scrapers on servers or in environments where a graphical interface is not available.\n",
        "\n",
        "3. **Automates Complex Interactions**: Some websites require complex interactions to access their data, like logging in, navigating through menus, or interacting with JavaScript. Playwright can automate these interactions, making it possible to scrape data from sites that would be difficult or impossible to scrape with simpler tools.\n",
        "\n",
        "Learn more about it! https://playwright.dev/python/docs/intro"
      ]
    },
    {
      "cell_type": "code",
      "execution_count": null,
      "id": "GPSjEdNOH_mm",
      "metadata": {
        "colab": {
          "base_uri": "https://localhost:8080/"
        },
        "id": "GPSjEdNOH_mm",
        "outputId": "3ae9a790-a486-4cec-ee00-1d6a6ad13b42"
      },
      "outputs": [
        {
          "name": "stdout",
          "output_type": "stream",
          "text": [
            "Collecting playwright\n",
            "  Downloading playwright-1.43.0-py3-none-manylinux1_x86_64.whl (37.3 MB)\n",
            "\u001b[2K     \u001b[90m━━━━━━━━━━━━━━━━━━━━━━━━━━━━━━━━━━━━━━━━\u001b[0m \u001b[32m37.3/37.3 MB\u001b[0m \u001b[31m28.8 MB/s\u001b[0m eta \u001b[36m0:00:00\u001b[0m\n",
            "\u001b[?25hRequirement already satisfied: greenlet==3.0.3 in /usr/local/lib/python3.10/dist-packages (from playwright) (3.0.3)\n",
            "Collecting pyee==11.1.0 (from playwright)\n",
            "  Downloading pyee-11.1.0-py3-none-any.whl (15 kB)\n",
            "Requirement already satisfied: typing-extensions in /usr/local/lib/python3.10/dist-packages (from pyee==11.1.0->playwright) (4.10.0)\n",
            "Installing collected packages: pyee, playwright\n",
            "Successfully installed playwright-1.43.0 pyee-11.1.0\n",
            "Downloading Chromium 124.0.6367.29 (playwright build v1112)\u001b[2m from https://playwright.azureedge.net/builds/chromium/1112/chromium-linux.zip\u001b[22m\n",
            "\u001b[1G155.3 MiB [] 0% 51.3s\u001b[0K\u001b[1G155.3 MiB [] 0% 23.3s\u001b[0K\u001b[1G155.3 MiB [] 0% 15.3s\u001b[0K\u001b[1G155.3 MiB [] 0% 12.2s\u001b[0K\u001b[1G155.3 MiB [] 0% 11.6s\u001b[0K\u001b[1G155.3 MiB [] 0% 10.0s\u001b[0K\u001b[1G155.3 MiB [] 1% 8.9s\u001b[0K\u001b[1G155.3 MiB [] 1% 8.3s\u001b[0K\u001b[1G155.3 MiB [] 1% 8.1s\u001b[0K\u001b[1G155.3 MiB [] 2% 8.0s\u001b[0K\u001b[1G155.3 MiB [] 2% 7.9s\u001b[0K\u001b[1G155.3 MiB [] 2% 8.2s\u001b[0K\u001b[1G155.3 MiB [] 2% 8.5s\u001b[0K\u001b[1G155.3 MiB [] 2% 8.3s\u001b[0K\u001b[1G155.3 MiB [] 3% 8.2s\u001b[0K\u001b[1G155.3 MiB [] 3% 8.0s\u001b[0K\u001b[1G155.3 MiB [] 3% 7.6s\u001b[0K\u001b[1G155.3 MiB [] 3% 7.4s\u001b[0K\u001b[1G155.3 MiB [] 4% 7.3s\u001b[0K\u001b[1G155.3 MiB [] 4% 7.5s\u001b[0K\u001b[1G155.3 MiB [] 4% 7.7s\u001b[0K\u001b[1G155.3 MiB [] 4% 7.9s\u001b[0K\u001b[1G155.3 MiB [] 4% 8.1s\u001b[0K\u001b[1G155.3 MiB [] 4% 7.9s\u001b[0K\u001b[1G155.3 MiB [] 5% 7.7s\u001b[0K\u001b[1G155.3 MiB [] 5% 7.6s\u001b[0K\u001b[1G155.3 MiB [] 5% 7.8s\u001b[0K\u001b[1G155.3 MiB [] 5% 7.5s\u001b[0K\u001b[1G155.3 MiB [] 6% 7.3s\u001b[0K\u001b[1G155.3 MiB [] 6% 7.0s\u001b[0K\u001b[1G155.3 MiB [] 7% 6.6s\u001b[0K\u001b[1G155.3 MiB [] 7% 6.4s\u001b[0K\u001b[1G155.3 MiB [] 8% 6.3s\u001b[0K\u001b[1G155.3 MiB [] 8% 6.2s\u001b[0K\u001b[1G155.3 MiB [] 8% 6.3s\u001b[0K\u001b[1G155.3 MiB [] 9% 6.1s\u001b[0K\u001b[1G155.3 MiB [] 9% 6.2s\u001b[0K\u001b[1G155.3 MiB [] 10% 6.1s\u001b[0K\u001b[1G155.3 MiB [] 10% 6.0s\u001b[0K\u001b[1G155.3 MiB [] 10% 5.9s\u001b[0K\u001b[1G155.3 MiB [] 11% 5.8s\u001b[0K\u001b[1G155.3 MiB [] 11% 5.7s\u001b[0K\u001b[1G155.3 MiB [] 12% 5.7s\u001b[0K\u001b[1G155.3 MiB [] 12% 5.6s\u001b[0K\u001b[1G155.3 MiB [] 13% 5.5s\u001b[0K\u001b[1G155.3 MiB [] 14% 5.4s\u001b[0K\u001b[1G155.3 MiB [] 15% 5.2s\u001b[0K\u001b[1G155.3 MiB [] 16% 5.1s\u001b[0K\u001b[1G155.3 MiB [] 17% 4.9s\u001b[0K\u001b[1G155.3 MiB [] 18% 4.7s\u001b[0K\u001b[1G155.3 MiB [] 18% 4.6s\u001b[0K\u001b[1G155.3 MiB [] 19% 4.5s\u001b[0K\u001b[1G155.3 MiB [] 20% 4.4s\u001b[0K\u001b[1G155.3 MiB [] 20% 4.3s\u001b[0K\u001b[1G155.3 MiB [] 21% 4.3s\u001b[0K\u001b[1G155.3 MiB [] 21% 4.2s\u001b[0K\u001b[1G155.3 MiB [] 22% 4.1s\u001b[0K\u001b[1G155.3 MiB [] 23% 4.0s\u001b[0K\u001b[1G155.3 MiB [] 24% 3.9s\u001b[0K\u001b[1G155.3 MiB [] 25% 3.8s\u001b[0K\u001b[1G155.3 MiB [] 26% 3.7s\u001b[0K\u001b[1G155.3 MiB [] 26% 3.6s\u001b[0K\u001b[1G155.3 MiB [] 27% 3.6s\u001b[0K\u001b[1G155.3 MiB [] 28% 3.6s\u001b[0K\u001b[1G155.3 MiB [] 28% 3.5s\u001b[0K\u001b[1G155.3 MiB [] 29% 3.4s\u001b[0K\u001b[1G155.3 MiB [] 30% 3.3s\u001b[0K\u001b[1G155.3 MiB [] 31% 3.3s\u001b[0K\u001b[1G155.3 MiB [] 31% 3.2s\u001b[0K\u001b[1G155.3 MiB [] 32% 3.1s\u001b[0K\u001b[1G155.3 MiB [] 33% 3.1s\u001b[0K\u001b[1G155.3 MiB [] 34% 3.0s\u001b[0K\u001b[1G155.3 MiB [] 35% 2.9s\u001b[0K\u001b[1G155.3 MiB [] 36% 2.8s\u001b[0K\u001b[1G155.3 MiB [] 37% 2.8s\u001b[0K\u001b[1G155.3 MiB [] 38% 2.7s\u001b[0K\u001b[1G155.3 MiB [] 39% 2.6s\u001b[0K\u001b[1G155.3 MiB [] 40% 2.6s\u001b[0K\u001b[1G155.3 MiB [] 40% 2.5s\u001b[0K\u001b[1G155.3 MiB [] 41% 2.5s\u001b[0K\u001b[1G155.3 MiB [] 42% 2.4s\u001b[0K\u001b[1G155.3 MiB [] 43% 2.3s\u001b[0K\u001b[1G155.3 MiB [] 44% 2.3s\u001b[0K\u001b[1G155.3 MiB [] 45% 2.3s\u001b[0K\u001b[1G155.3 MiB [] 46% 2.2s\u001b[0K\u001b[1G155.3 MiB [] 47% 2.2s\u001b[0K\u001b[1G155.3 MiB [] 47% 2.1s\u001b[0K\u001b[1G155.3 MiB [] 48% 2.1s\u001b[0K\u001b[1G155.3 MiB [] 49% 2.1s\u001b[0K\u001b[1G155.3 MiB [] 49% 2.0s\u001b[0K\u001b[1G155.3 MiB [] 50% 2.0s\u001b[0K\u001b[1G155.3 MiB [] 51% 2.0s\u001b[0K\u001b[1G155.3 MiB [] 52% 2.0s\u001b[0K\u001b[1G155.3 MiB [] 53% 2.0s\u001b[0K\u001b[1G155.3 MiB [] 54% 2.0s\u001b[0K\u001b[1G155.3 MiB [] 54% 1.9s\u001b[0K\u001b[1G155.3 MiB [] 55% 1.9s\u001b[0K\u001b[1G155.3 MiB [] 56% 1.9s\u001b[0K\u001b[1G155.3 MiB [] 57% 1.8s\u001b[0K\u001b[1G155.3 MiB [] 58% 1.7s\u001b[0K\u001b[1G155.3 MiB [] 59% 1.7s\u001b[0K\u001b[1G155.3 MiB [] 60% 1.6s\u001b[0K\u001b[1G155.3 MiB [] 61% 1.6s\u001b[0K\u001b[1G155.3 MiB [] 62% 1.5s\u001b[0K\u001b[1G155.3 MiB [] 63% 1.5s\u001b[0K\u001b[1G155.3 MiB [] 64% 1.4s\u001b[0K\u001b[1G155.3 MiB [] 65% 1.4s\u001b[0K\u001b[1G155.3 MiB [] 66% 1.3s\u001b[0K\u001b[1G155.3 MiB [] 67% 1.3s\u001b[0K\u001b[1G155.3 MiB [] 68% 1.2s\u001b[0K\u001b[1G155.3 MiB [] 69% 1.2s\u001b[0K\u001b[1G155.3 MiB [] 70% 1.2s\u001b[0K\u001b[1G155.3 MiB [] 70% 1.1s\u001b[0K\u001b[1G155.3 MiB [] 71% 1.1s\u001b[0K\u001b[1G155.3 MiB [] 72% 1.1s\u001b[0K\u001b[1G155.3 MiB [] 73% 1.0s\u001b[0K\u001b[1G155.3 MiB [] 74% 1.0s\u001b[0K\u001b[1G155.3 MiB [] 75% 1.0s\u001b[0K\u001b[1G155.3 MiB [] 75% 0.9s\u001b[0K\u001b[1G155.3 MiB [] 76% 0.9s\u001b[0K\u001b[1G155.3 MiB [] 77% 0.9s\u001b[0K\u001b[1G155.3 MiB [] 77% 0.8s\u001b[0K\u001b[1G155.3 MiB [] 78% 0.8s\u001b[0K\u001b[1G155.3 MiB [] 79% 0.8s\u001b[0K\u001b[1G155.3 MiB [] 80% 0.7s\u001b[0K\u001b[1G155.3 MiB [] 81% 0.7s\u001b[0K\u001b[1G155.3 MiB [] 82% 0.7s\u001b[0K\u001b[1G155.3 MiB [] 83% 0.6s\u001b[0K\u001b[1G155.3 MiB [] 84% 0.6s\u001b[0K\u001b[1G155.3 MiB [] 85% 0.5s\u001b[0K\u001b[1G155.3 MiB [] 86% 0.5s\u001b[0K\u001b[1G155.3 MiB [] 87% 0.5s\u001b[0K\u001b[1G155.3 MiB [] 88% 0.4s\u001b[0K\u001b[1G155.3 MiB [] 89% 0.4s\u001b[0K\u001b[1G155.3 MiB [] 90% 0.4s\u001b[0K\u001b[1G155.3 MiB [] 91% 0.3s\u001b[0K\u001b[1G155.3 MiB [] 92% 0.3s\u001b[0K\u001b[1G155.3 MiB [] 93% 0.2s\u001b[0K\u001b[1G155.3 MiB [] 94% 0.2s\u001b[0K\u001b[1G155.3 MiB [] 95% 0.2s\u001b[0K\u001b[1G155.3 MiB [] 95% 0.1s\u001b[0K\u001b[1G155.3 MiB [] 96% 0.1s\u001b[0K\u001b[1G155.3 MiB [] 97% 0.1s\u001b[0K\u001b[1G155.3 MiB [] 98% 0.0s\u001b[0K\u001b[1G155.3 MiB [] 99% 0.0s\u001b[0K\u001b[1G155.3 MiB [] 100% 0.0s\u001b[0K\n",
            "Chromium 124.0.6367.29 (playwright build v1112) downloaded to /root/.cache/ms-playwright/chromium-1112\n",
            "Downloading FFMPEG playwright build v1009\u001b[2m from https://playwright.azureedge.net/builds/ffmpeg/1009/ffmpeg-linux.zip\u001b[22m\n",
            "\u001b[1G2.6 MiB [] 0% 0.0s\u001b[0K\u001b[1G2.6 MiB [] 5% 0.3s\u001b[0K\u001b[1G2.6 MiB [] 20% 0.1s\u001b[0K\u001b[1G2.6 MiB [] 37% 0.1s\u001b[0K\u001b[1G2.6 MiB [] 56% 0.1s\u001b[0K\u001b[1G2.6 MiB [] 80% 0.0s\u001b[0K\u001b[1G2.6 MiB [] 100% 0.0s\u001b[0K\n",
            "FFMPEG playwright build v1009 downloaded to /root/.cache/ms-playwright/ffmpeg-1009\n",
            "Downloading Firefox 124.0 (playwright build v1447)\u001b[2m from https://playwright.azureedge.net/builds/firefox/1447/firefox-ubuntu-22.04.zip\u001b[22m\n",
            "\u001b[1G85.4 MiB [] 0% 0.0s\u001b[0K\u001b[1G85.4 MiB [] 0% 8.5s\u001b[0K\u001b[1G85.4 MiB [] 0% 4.1s\u001b[0K\u001b[1G85.4 MiB [] 1% 5.3s\u001b[0K\u001b[1G85.4 MiB [] 1% 5.6s\u001b[0K\u001b[1G85.4 MiB [] 1% 5.1s\u001b[0K\u001b[1G85.4 MiB [] 2% 4.3s\u001b[0K\u001b[1G85.4 MiB [] 3% 3.6s\u001b[0K\u001b[1G85.4 MiB [] 4% 3.3s\u001b[0K\u001b[1G85.4 MiB [] 4% 3.1s\u001b[0K\u001b[1G85.4 MiB [] 5% 3.0s\u001b[0K\u001b[1G85.4 MiB [] 6% 2.9s\u001b[0K\u001b[1G85.4 MiB [] 7% 2.7s\u001b[0K\u001b[1G85.4 MiB [] 8% 2.7s\u001b[0K\u001b[1G85.4 MiB [] 8% 2.8s\u001b[0K\u001b[1G85.4 MiB [] 9% 2.6s\u001b[0K\u001b[1G85.4 MiB [] 10% 2.5s\u001b[0K\u001b[1G85.4 MiB [] 11% 2.4s\u001b[0K\u001b[1G85.4 MiB [] 12% 2.2s\u001b[0K\u001b[1G85.4 MiB [] 13% 2.2s\u001b[0K\u001b[1G85.4 MiB [] 14% 2.1s\u001b[0K\u001b[1G85.4 MiB [] 15% 2.0s\u001b[0K\u001b[1G85.4 MiB [] 16% 2.0s\u001b[0K\u001b[1G85.4 MiB [] 17% 1.9s\u001b[0K\u001b[1G85.4 MiB [] 19% 1.9s\u001b[0K\u001b[1G85.4 MiB [] 20% 1.8s\u001b[0K\u001b[1G85.4 MiB [] 21% 1.7s\u001b[0K\u001b[1G85.4 MiB [] 22% 1.7s\u001b[0K\u001b[1G85.4 MiB [] 24% 1.6s\u001b[0K\u001b[1G85.4 MiB [] 25% 1.6s\u001b[0K\u001b[1G85.4 MiB [] 26% 1.6s\u001b[0K\u001b[1G85.4 MiB [] 27% 1.6s\u001b[0K\u001b[1G85.4 MiB [] 28% 1.6s\u001b[0K\u001b[1G85.4 MiB [] 29% 1.5s\u001b[0K\u001b[1G85.4 MiB [] 30% 1.5s\u001b[0K\u001b[1G85.4 MiB [] 31% 1.5s\u001b[0K\u001b[1G85.4 MiB [] 32% 1.4s\u001b[0K\u001b[1G85.4 MiB [] 33% 1.4s\u001b[0K\u001b[1G85.4 MiB [] 34% 1.3s\u001b[0K\u001b[1G85.4 MiB [] 36% 1.3s\u001b[0K\u001b[1G85.4 MiB [] 37% 1.3s\u001b[0K\u001b[1G85.4 MiB [] 39% 1.2s\u001b[0K\u001b[1G85.4 MiB [] 40% 1.2s\u001b[0K\u001b[1G85.4 MiB [] 42% 1.1s\u001b[0K\u001b[1G85.4 MiB [] 44% 1.0s\u001b[0K\u001b[1G85.4 MiB [] 45% 1.0s\u001b[0K\u001b[1G85.4 MiB [] 46% 1.0s\u001b[0K\u001b[1G85.4 MiB [] 48% 0.9s\u001b[0K\u001b[1G85.4 MiB [] 49% 0.9s\u001b[0K\u001b[1G85.4 MiB [] 50% 0.9s\u001b[0K\u001b[1G85.4 MiB [] 52% 0.9s\u001b[0K\u001b[1G85.4 MiB [] 53% 0.8s\u001b[0K\u001b[1G85.4 MiB [] 55% 0.8s\u001b[0K\u001b[1G85.4 MiB [] 56% 0.7s\u001b[0K\u001b[1G85.4 MiB [] 58% 0.7s\u001b[0K\u001b[1G85.4 MiB [] 59% 0.7s\u001b[0K\u001b[1G85.4 MiB [] 61% 0.6s\u001b[0K\u001b[1G85.4 MiB [] 62% 0.6s\u001b[0K\u001b[1G85.4 MiB [] 63% 0.6s\u001b[0K\u001b[1G85.4 MiB [] 66% 0.6s\u001b[0K\u001b[1G85.4 MiB [] 67% 0.5s\u001b[0K\u001b[1G85.4 MiB [] 68% 0.5s\u001b[0K\u001b[1G85.4 MiB [] 69% 0.5s\u001b[0K\u001b[1G85.4 MiB [] 70% 0.5s\u001b[0K\u001b[1G85.4 MiB [] 71% 0.5s\u001b[0K\u001b[1G85.4 MiB [] 72% 0.5s\u001b[0K\u001b[1G85.4 MiB [] 73% 0.4s\u001b[0K\u001b[1G85.4 MiB [] 74% 0.4s\u001b[0K\u001b[1G85.4 MiB [] 75% 0.4s\u001b[0K\u001b[1G85.4 MiB [] 77% 0.4s\u001b[0K\u001b[1G85.4 MiB [] 79% 0.4s\u001b[0K\u001b[1G85.4 MiB [] 80% 0.3s\u001b[0K\u001b[1G85.4 MiB [] 81% 0.3s\u001b[0K\u001b[1G85.4 MiB [] 83% 0.3s\u001b[0K\u001b[1G85.4 MiB [] 84% 0.3s\u001b[0K\u001b[1G85.4 MiB [] 86% 0.2s\u001b[0K\u001b[1G85.4 MiB [] 88% 0.2s\u001b[0K\u001b[1G85.4 MiB [] 89% 0.2s\u001b[0K\u001b[1G85.4 MiB [] 91% 0.1s\u001b[0K\u001b[1G85.4 MiB [] 92% 0.1s\u001b[0K\u001b[1G85.4 MiB [] 93% 0.1s\u001b[0K\u001b[1G85.4 MiB [] 94% 0.1s\u001b[0K\u001b[1G85.4 MiB [] 96% 0.1s\u001b[0K\u001b[1G85.4 MiB [] 97% 0.0s\u001b[0K\u001b[1G85.4 MiB [] 98% 0.0s\u001b[0K\u001b[1G85.4 MiB [] 100% 0.0s\u001b[0K\n",
            "Firefox 124.0 (playwright build v1447) downloaded to /root/.cache/ms-playwright/firefox-1447\n",
            "Downloading Webkit 17.4 (playwright build v1992)\u001b[2m from https://playwright.azureedge.net/builds/webkit/1992/webkit-ubuntu-22.04.zip\u001b[22m\n",
            "\u001b[1G86.5 MiB [] 0% 0.0s\u001b[0K\u001b[1G86.5 MiB [] 0% 9.9s\u001b[0K\u001b[1G86.5 MiB [] 0% 6.7s\u001b[0K\u001b[1G86.5 MiB [] 0% 5.4s\u001b[0K\u001b[1G86.5 MiB [] 1% 5.2s\u001b[0K\u001b[1G86.5 MiB [] 1% 4.7s\u001b[0K\u001b[1G86.5 MiB [] 2% 4.3s\u001b[0K\u001b[1G86.5 MiB [] 2% 4.2s\u001b[0K\u001b[1G86.5 MiB [] 3% 4.1s\u001b[0K\u001b[1G86.5 MiB [] 4% 3.6s\u001b[0K\u001b[1G86.5 MiB [] 4% 3.4s\u001b[0K\u001b[1G86.5 MiB [] 5% 3.2s\u001b[0K\u001b[1G86.5 MiB [] 5% 3.3s\u001b[0K\u001b[1G86.5 MiB [] 6% 3.1s\u001b[0K\u001b[1G86.5 MiB [] 7% 2.9s\u001b[0K\u001b[1G86.5 MiB [] 8% 2.8s\u001b[0K\u001b[1G86.5 MiB [] 9% 2.7s\u001b[0K\u001b[1G86.5 MiB [] 9% 2.8s\u001b[0K\u001b[1G86.5 MiB [] 10% 2.8s\u001b[0K\u001b[1G86.5 MiB [] 10% 2.9s\u001b[0K\u001b[1G86.5 MiB [] 11% 2.7s\u001b[0K\u001b[1G86.5 MiB [] 12% 2.7s\u001b[0K\u001b[1G86.5 MiB [] 13% 2.5s\u001b[0K\u001b[1G86.5 MiB [] 14% 2.5s\u001b[0K\u001b[1G86.5 MiB [] 15% 2.4s\u001b[0K\u001b[1G86.5 MiB [] 16% 2.3s\u001b[0K\u001b[1G86.5 MiB [] 18% 2.2s\u001b[0K\u001b[1G86.5 MiB [] 20% 2.1s\u001b[0K\u001b[1G86.5 MiB [] 21% 2.0s\u001b[0K\u001b[1G86.5 MiB [] 22% 1.9s\u001b[0K\u001b[1G86.5 MiB [] 23% 1.9s\u001b[0K\u001b[1G86.5 MiB [] 24% 1.8s\u001b[0K\u001b[1G86.5 MiB [] 25% 1.8s\u001b[0K\u001b[1G86.5 MiB [] 26% 1.7s\u001b[0K\u001b[1G86.5 MiB [] 27% 1.7s\u001b[0K\u001b[1G86.5 MiB [] 28% 1.6s\u001b[0K\u001b[1G86.5 MiB [] 29% 1.6s\u001b[0K\u001b[1G86.5 MiB [] 30% 1.5s\u001b[0K\u001b[1G86.5 MiB [] 31% 1.5s\u001b[0K\u001b[1G86.5 MiB [] 32% 1.5s\u001b[0K\u001b[1G86.5 MiB [] 33% 1.4s\u001b[0K\u001b[1G86.5 MiB [] 35% 1.4s\u001b[0K\u001b[1G86.5 MiB [] 37% 1.3s\u001b[0K\u001b[1G86.5 MiB [] 38% 1.2s\u001b[0K\u001b[1G86.5 MiB [] 40% 1.2s\u001b[0K\u001b[1G86.5 MiB [] 41% 1.2s\u001b[0K\u001b[1G86.5 MiB [] 42% 1.2s\u001b[0K\u001b[1G86.5 MiB [] 43% 1.2s\u001b[0K\u001b[1G86.5 MiB [] 44% 1.2s\u001b[0K\u001b[1G86.5 MiB [] 45% 1.2s\u001b[0K\u001b[1G86.5 MiB [] 46% 1.2s\u001b[0K\u001b[1G86.5 MiB [] 47% 1.1s\u001b[0K\u001b[1G86.5 MiB [] 48% 1.1s\u001b[0K\u001b[1G86.5 MiB [] 49% 1.1s\u001b[0K\u001b[1G86.5 MiB [] 51% 1.0s\u001b[0K\u001b[1G86.5 MiB [] 52% 1.0s\u001b[0K\u001b[1G86.5 MiB [] 54% 0.9s\u001b[0K\u001b[1G86.5 MiB [] 56% 0.9s\u001b[0K\u001b[1G86.5 MiB [] 57% 0.8s\u001b[0K\u001b[1G86.5 MiB [] 58% 0.8s\u001b[0K\u001b[1G86.5 MiB [] 60% 0.8s\u001b[0K\u001b[1G86.5 MiB [] 62% 0.7s\u001b[0K\u001b[1G86.5 MiB [] 63% 0.7s\u001b[0K\u001b[1G86.5 MiB [] 64% 0.7s\u001b[0K\u001b[1G86.5 MiB [] 66% 0.6s\u001b[0K\u001b[1G86.5 MiB [] 67% 0.6s\u001b[0K\u001b[1G86.5 MiB [] 68% 0.6s\u001b[0K\u001b[1G86.5 MiB [] 70% 0.5s\u001b[0K\u001b[1G86.5 MiB [] 72% 0.5s\u001b[0K\u001b[1G86.5 MiB [] 74% 0.5s\u001b[0K\u001b[1G86.5 MiB [] 75% 0.4s\u001b[0K\u001b[1G86.5 MiB [] 76% 0.4s\u001b[0K\u001b[1G86.5 MiB [] 77% 0.4s\u001b[0K\u001b[1G86.5 MiB [] 79% 0.4s\u001b[0K\u001b[1G86.5 MiB [] 80% 0.3s\u001b[0K\u001b[1G86.5 MiB [] 81% 0.3s\u001b[0K\u001b[1G86.5 MiB [] 82% 0.3s\u001b[0K\u001b[1G86.5 MiB [] 83% 0.3s\u001b[0K\u001b[1G86.5 MiB [] 84% 0.3s\u001b[0K\u001b[1G86.5 MiB [] 85% 0.3s\u001b[0K\u001b[1G86.5 MiB [] 86% 0.2s\u001b[0K\u001b[1G86.5 MiB [] 87% 0.2s\u001b[0K\u001b[1G86.5 MiB [] 89% 0.2s\u001b[0K\u001b[1G86.5 MiB [] 91% 0.2s\u001b[0K\u001b[1G86.5 MiB [] 92% 0.1s\u001b[0K\u001b[1G86.5 MiB [] 94% 0.1s\u001b[0K\u001b[1G86.5 MiB [] 96% 0.1s\u001b[0K\u001b[1G86.5 MiB [] 98% 0.0s\u001b[0K\u001b[1G86.5 MiB [] 100% 0.0s\u001b[0K\n",
            "Webkit 17.4 (playwright build v1992) downloaded to /root/.cache/ms-playwright/webkit-1992\n",
            "Playwright Host validation warning: \n",
            "╔══════════════════════════════════════════════════════╗\n",
            "║ Host system is missing dependencies to run browsers. ║\n",
            "║ Missing libraries:                                   ║\n",
            "║     libwoff2dec.so.1.0.2                             ║\n",
            "║     libgstgl-1.0.so.0                                ║\n",
            "║     libgstcodecparsers-1.0.so.0                      ║\n",
            "║     libharfbuzz-icu.so.0                             ║\n",
            "║     libenchant-2.so.2                                ║\n",
            "║     libsecret-1.so.0                                 ║\n",
            "║     libhyphen.so.0                                   ║\n",
            "║     libmanette-0.2.so.0                              ║\n",
            "╚══════════════════════════════════════════════════════╝\n",
            "    at validateDependenciesLinux (/usr/local/lib/python3.10/dist-packages/playwright/driver/package/lib/server/registry/dependencies.js:216:9)\n",
            "\u001b[90m    at process.processTicksAndRejections (node:internal/process/task_queues:95:5)\u001b[39m\n",
            "    at async Registry._validateHostRequirements (/usr/local/lib/python3.10/dist-packages/playwright/driver/package/lib/server/registry/index.js:587:43)\n",
            "    at async Registry._validateHostRequirementsForExecutableIfNeeded (/usr/local/lib/python3.10/dist-packages/playwright/driver/package/lib/server/registry/index.js:685:7)\n",
            "    at async Registry.validateHostRequirementsForExecutablesIfNeeded (/usr/local/lib/python3.10/dist-packages/playwright/driver/package/lib/server/registry/index.js:674:43)\n",
            "    at async t.<anonymous> (/usr/local/lib/python3.10/dist-packages/playwright/driver/package/lib/cli/program.js:119:7)\n"
          ]
        }
      ],
      "source": [
        "!pip install playwright\n",
        "!playwright install"
      ]
    },
    {
      "cell_type": "markdown",
      "id": "27jxFBDOIBP5",
      "metadata": {
        "id": "27jxFBDOIBP5"
      },
      "source": [
        "### Web Scraping Libraries - Explained\n",
        "\n",
        "When scraping rental listings from websites like Kijiji and RentFaster, several Python libraries will be of use in the process. Here's how each of them contributes:\n",
        "\n",
        "- **`asyncio`**: This is a library to write concurrent code using the async/await syntax. It is useful for handling asynchronous operations, making it possible to scrape websites more efficiently. When used with `playwright`, it allows for asynchronous navigation and interaction with web pages, speeding up the web scraping process by performing multiple tasks concurrently.\n",
        "\n",
        "- **`json`**: JavaScript Object Notation (JSON) is a lightweight data interchange format. This library can be used to parse JSON data that will be returned from HTML requests on rental websites and to store scraped data in a JSON format, making it easier to work with complex data structures using Spark.\n",
        "\n",
        "- **`requests`**: A powerful HTTP library for making requests to web servers. It is used to request the HTML content of web pages from Kijiji and RentFaster. `requests` is straightforward and can handle various types of HTTP requests, essential for accessing the data on rental listings.\n",
        "\n",
        "- **`time`**: This module provides various time-related functions. We will use it to handle rate limiting by adding delays between requests, ensuring that your scraping activities do not lead to your IP being banned from the website for making too many requests too quickly.\n",
        "\n",
        "- **`re` (Regular Expression)**: This library is used to search, match, or replace patterns in strings. In our web scraping process, is particularly useful for extracting specific pieces of data from HTML or text, such as phone numbers, prices, or other structured information from rental listings.\n",
        "\n",
        "- **`pandas` (pd)**: A powerful data manipulation and analysis library. After scraping the data, `pandas` can be used to clean, transform, and analyze the rental listings data, making it easier to work with large datasets and perform complex data analysis tasks.\n",
        "\n",
        "- **`csv`**: This module implements classes to read and write tabular data in CSV format. It can be used to save scraped data into CSV files, which is a common format for storing tabular data, allowing for easy sharing and analysis of the scraped rental listings.\n",
        "\n",
        "- **`BeautifulSoup` (from `bs4`)**: A library for parsing HTML and XML documents. It creates parse trees that is helpful to extract information from web pages easily. `BeautifulSoup` works well with `requests` to navigate the HTML structure of a page and extract data, such as rental prices, descriptions, and images.\n",
        "\n",
        "- **`playwright.async_api` (async_playwright, TimeoutError)**: `playwright` is a framework for browser automation and `async_playwright` refers to its asynchronous API. This is particularly useful for interacting with JavaScript-heavy websites like RentFaster, allowing for headless browser interaction, page navigation, and dynamic content loading. The `TimeoutError` helps in handling exceptions that may occur if a page takes too long to load or respond.\n",
        "\n",
        "\n"
      ]
    },
    {
      "cell_type": "code",
      "execution_count": null,
      "id": "4ed75a28-fef5-4c8d-88f3-92f479467db0",
      "metadata": {
        "id": "4ed75a28-fef5-4c8d-88f3-92f479467db0"
      },
      "outputs": [],
      "source": [
        "import asyncio\n",
        "import json\n",
        "import requests\n",
        "import time\n",
        "import re\n",
        "import pandas as pd\n",
        "import csv\n",
        "import numpy as np\n",
        "from bs4 import BeautifulSoup\n",
        "# Import async playwright\n",
        "from playwright.async_api import async_playwright, TimeoutError"
      ]
    },
    {
      "cell_type": "markdown",
      "id": "DNwhGim2IImo",
      "metadata": {
        "id": "DNwhGim2IImo"
      },
      "source": [
        "### Get HTML content from Website - PlayWright\n",
        "\n",
        "The `get_page_content` function is an asynchronous utility designed for web scraping, specifically optimized for fetching content from RentFaster and Kijiji. It employs the Playwright library to programmatically control a web browser, navigating to a specified URL and waiting for the page to load fully before capturing its HTML content. This is particularly useful for RentFaster that dynamicaly loads content asynchronously with JavaScript.\n",
        "\n",
        "The function is capable of making multiple attempts to fetch a page's content, retrying up to a predefined limit in case of timeouts, which can occur with Kijiji. This retry mechanism, coupled with the ability to wait for specific page elements to appear before proceeding, ensures reliability in the scraping process. It can specifically wait for elements that signify the page has fully loaded on either RentFaster or Kijiji, based on parameters passed to it. After successfully retrieving the page content, the browser session is closed to clean up resources. If the function fails to fetch the content after the specified number of retries, it raises an exception to signal the failure. This approach ensures robustness and flexibility in scraping tasks, accommodating the challenges posed these websites.\n"
      ]
    },
    {
      "cell_type": "code",
      "execution_count": null,
      "id": "deab8e34-4a7f-4357-bbd8-b5d6c9ae6d63",
      "metadata": {
        "id": "deab8e34-4a7f-4357-bbd8-b5d6c9ae6d63"
      },
      "outputs": [],
      "source": [
        "async def get_page_content(url, wait_rf, wait_kk, retries=5):\n",
        "    attempt = 0\n",
        "    while attempt < retries:\n",
        "        try:\n",
        "            async with async_playwright() as p:\n",
        "                # Launch the browser\n",
        "                browser = await p.chromium.launch()\n",
        "                page = await browser.new_page()\n",
        "\n",
        "                # Navigate to the URL\n",
        "                await page.goto(url)\n",
        "                if wait_rf:\n",
        "                    # Wait for a selector to ensure the page has loaded (rent-faster)\n",
        "                    await page.wait_for_selector('.card.my-3.p-3.ng-scope', timeout=6000)\n",
        "                if wait_kk:\n",
        "                    # Wait for a selector to ensure the page has loaded (kijiji)\n",
        "                    await page.wait_for_selector('ul[data-testid=\"srp-search-list\"]', timeout=6000)\n",
        "                await asyncio.sleep(1)\n",
        "                # Get the page content\n",
        "                content = await page.content()\n",
        "                # Close the browser\n",
        "                await browser.close()\n",
        "\n",
        "                return content\n",
        "        except TimeoutError:\n",
        "            print(f\"Attempt {attempt + 1} failed, retrying...\")\n",
        "            attempt += 1\n",
        "            if attempt < retries:\n",
        "                await asyncio.sleep(2)  # Wait a bit before retrying\n",
        "\n",
        "    # If all attempts fail, raise an exception or return a specific value\n",
        "    raise Exception(f\"All {retries} attempts failed.\")"
      ]
    },
    {
      "cell_type": "markdown",
      "id": "qKNvGQpfJEvh",
      "metadata": {
        "id": "qKNvGQpfJEvh"
      },
      "source": [
        "### Retrieve URLs from listing website -   Kijiji\n",
        "The `get_urls_kk` function is an asynchronous function crafted to parse URLs from the HTML content of a Kijiji listing page, a task preceded by fetching the page content with the `get_page_content` function. Utilizing the BeautifulSoup library, the function interprets the HTML to find specific anchor (`<a>`) tags that denote listing links on Kijiji.\n",
        "\n",
        "This method is finely tuned for the structure of Kijiji's website, making use of distinct HTML attributes to precisely extract and construct URLs for each listing. It plays an essential role in web scraping workflows aimed at navigating from a general listings page to specific listings for more detailed data extraction."
      ]
    },
    {
      "cell_type": "code",
      "execution_count": null,
      "id": "nXdeTToG-40K",
      "metadata": {
        "id": "nXdeTToG-40K"
      },
      "outputs": [],
      "source": [
        "async def get_urls_kk(content):\n",
        "    soup = BeautifulSoup(content, 'html.parser')\n",
        "    urls = []\n",
        "    links = soup.find_all('a', {'data-testid': 'listing-link'}, href=True)\n",
        "    for link in links:\n",
        "        urls.append('https://www.kijiji.ca' + link['href'])\n",
        "    return urls"
      ]
    },
    {
      "cell_type": "markdown",
      "id": "k4FgkIZ0I8se",
      "metadata": {
        "id": "k4FgkIZ0I8se"
      },
      "source": [
        "### Retrieve URLs from listing website - RentFaster\n",
        "\n",
        "The `get_urls_rf` function is designed to extract URLs from the HTML content of a RentFaster listing page. Unlike the previous function focused on Kijiji, this one deals with structured data embedded within a `<script>` tag in JSON format, a common technique for web developers to initialize JavaScript objects on web pages.\n",
        "\n",
        "This function highlights a different approach to web scraping, focusing on extracting data from JSON embedded within HTML content, which can be a more direct and less error-prone method than parsing the HTML structure itself, especially when the website utilizes JavaScript to render content dynamically.\n"
      ]
    },
    {
      "cell_type": "code",
      "execution_count": null,
      "id": "e2b48994-22e0-4058-9fca-f570393c36ec",
      "metadata": {
        "id": "e2b48994-22e0-4058-9fca-f570393c36ec"
      },
      "outputs": [],
      "source": [
        "back_up_details = {}\n",
        "back_up_overviews = {}\n",
        "\n",
        "def get_urls_rf(content):\n",
        "    soup = BeautifulSoup(content, 'html.parser')\n",
        "    script_tag = soup.find('script', id='ldjsonProperties')\n",
        "    json_str = script_tag.string if script_tag else ''\n",
        "\n",
        "    # Check if we successfully found the script tag and extracted the string\n",
        "    if not json_str:\n",
        "        print(\"JSON string not found.\")\n",
        "    else:\n",
        "        data = json.loads(json_str)\n",
        "        urls = []\n",
        "        # Check if the key 'itemListElement' is in the parsed data\n",
        "        if 'itemListElement' in data:\n",
        "            # Iterate through each item and extract the 'url'\n",
        "            for item in data['itemListElement']:\n",
        "                url = item.get('url', None)\n",
        "                if url:\n",
        "                    urls.append(url)\n",
        "        return urls"
      ]
    },
    {
      "cell_type": "markdown",
      "id": "ctTpRJvJj9Tu",
      "metadata": {
        "id": "ctTpRJvJj9Tu"
      },
      "source": [
        "### Generate URLs from both website programmatically\n",
        "\n",
        "This functions deals with creating a list of listings and their URLs for both Kijiji and RentFaster. It is designed to call the functions we defined above based on the following parameters:\n",
        "\n",
        "\n",
        "*   `parameter` : Can be the a location within Alberta if `rentfaster` is `True`, or it can be a `page` number based on which page from a listing we want to get the URLs from if `kijiji` is `True`\n",
        "*   `kijiji`: Boolean True or False\n",
        "*   `rentfaster`: Boolean True or False\n",
        "\n"
      ]
    },
    {
      "cell_type": "code",
      "execution_count": null,
      "id": "a94f9d29-887d-4ef0-ba90-6d0072ddc49e",
      "metadata": {
        "id": "a94f9d29-887d-4ef0-ba90-6d0072ddc49e"
      },
      "outputs": [],
      "source": [
        "async def url_generator(parameter,kijiji,rentfaster):\n",
        "  contents_urls = []\n",
        "  if rentfaster:\n",
        "    for location in parameter:\n",
        "      url = f'https://www.rentfaster.ca/ab/{location}/#dialog-listview'\n",
        "      content = await get_page_content(url,True,False)\n",
        "      time.sleep(1)\n",
        "      print(f\"Getting listing URLs for {location} [RentFaster]\")\n",
        "      urls = get_urls_rf(content)\n",
        "      contents_urls.append(urls)\n",
        "      time.sleep(1)\n",
        "    print(\"URLs retrieved\")\n",
        "    return contents_urls\n",
        "  elif kijiji:\n",
        "    for n in range(1, len(parameter) + 1):\n",
        "      url = f\"https://www.kijiji.ca/b-for-rent/alberta/page-{parameter[n-1]}/c30349001l9003\"\n",
        "      print(f\"Getting listing URLs for AB page {parameter[n-1]} [Kijiji]\")\n",
        "      content = await get_page_content(url, wait_rf = False, wait_kk = True)\n",
        "      time.sleep(1)\n",
        "      urls = await get_urls_kk(content)\n",
        "      contents_urls.append(urls)\n",
        "      time.sleep(1)\n",
        "    print(\"URLs retrieved\")\n",
        "    return contents_urls\n",
        "  else:\n",
        "    print(\"Invalid Options\")\n",
        "    return None"
      ]
    },
    {
      "cell_type": "markdown",
      "id": "7J1GfkLdJmbk",
      "metadata": {
        "id": "7J1GfkLdJmbk"
      },
      "source": [
        "### Scraping and Parsing content from Website\n",
        "To understand the structure and dynamics of HTML content fetched from Kijiji and RentFaster is important to effectively use web scraping, especially when extracting detailed information about rental listings. This complexity arises because websites such as RentFaster often employ dynamic content loading through JavaScript, which means the data you're interested in (e.g., address, price, listing title, description, features of the listing like pet-friendliness or laundry facilities, contact info, posting date, URL) may not be present in the initial HTML served by the web server but loaded asynchronously thereafter.\n",
        "\n",
        "Given these challenges, tailored approaches are necessary for scraping each website. These functions are meticulously designed to navigate the intricacies of each site's HTML structure and JavaScript dynamics.\n",
        "\n",
        "RentFaster, for instance, stores relevant listing details within `<script>` tags in JSON format. The parsing function for RentFaster content is adept at locating these tags, extracting and decoding the JSON, and then systematically pulling out and organizing the necessary data, such as property overview, amenities, and unit details. This method hinges on the JSON being structured in a predictable manner, allowing for direct access to various pieces of information without the need to interpret the HTML visually as a browser would.\n",
        "\n",
        "On the other hand, the Kijiji content parsing function deals with a more traditional mix of HTML elements and embedded JSON scripts. It has to navigate through the document, identifying specific tags and classes to extract the listing’s description, address, and other attributes. This function also handles dynamically loaded data, requiring it to parse both the visible HTML and the JavaScript variables or window properties that contain JSON data with additional details about the listings.\n",
        "\n",
        "The need for these tailored functions arise from the variance in how each website delivers content to the end-user. While one site might embed data within HTML in a straightforward manner, another might rely heavily on JavaScript to construct the page dynamically, necessitating a flexible and nuanced approach to scraping.\n",
        "\n",
        "This project highlights a broader principle in web scraping: the importance of carefully analyzing the source content of a website to understand how it structures and delivers data. This analysis is crucial for designing efficient scrapers that can reliably extract the needed information despite the complexities of modern web development practices, including the use of JavaScript and AJAX for dynamic content loading. Such an understanding not only informs the technical strategy for data extraction but also ensures the scraper can adapt to changes in the website's structure or content delivery mechanisms over time.\n"
      ]
    },
    {
      "cell_type": "code",
      "execution_count": null,
      "id": "AjyWij916o4e",
      "metadata": {
        "cellView": "form",
        "id": "AjyWij916o4e"
      },
      "outputs": [],
      "source": [
        "# @title #### RentFaster Parser Function\n",
        "def parse_json_data_rf(content, url):\n",
        "    soup = BeautifulSoup(content, 'html.parser')\n",
        "    script_tags = soup.find_all(\"script\", type=\"application/ld+json\")\n",
        "    match = re.search(r'https://www\\.rentfaster\\.ca(/[^/]+/[^/]+)/', url)\n",
        "    location = match.group(1)\n",
        "    data = None\n",
        "    for tag in script_tags:\n",
        "        try:\n",
        "            if tag.string != None:\n",
        "              json_data = json.loads(tag.string)\n",
        "              if 'mainEntity' in json_data:\n",
        "                  data = json_data['mainEntity']\n",
        "                  break\n",
        "        except json.JSONDecodeError:\n",
        "            continue\n",
        "\n",
        "    if data is None:\n",
        "      print(\"No valid JSON data found for the provided listing. Skipping Listing\")\n",
        "      return\n",
        "    # Extract the ID from the URL\n",
        "    property_id = re.search(r'(\\d+)$', data.get(\"@id\", \"\")).group(1) if data.get(\"@id\") else None\n",
        "\n",
        "    property_overview = {\n",
        "        \"id\": property_id,\n",
        "        \"location\": location,\n",
        "        \"name\": data.get(\"name\", \"Undefined\"),\n",
        "        \"url\": data.get(\"url\", \"Undefined\"),\n",
        "        \"slogan\": data.get(\"slogan\", \"Undefined\"),\n",
        "        \"priceRange\": data.get(\"priceRange\", \"Undefined\"),\n",
        "        \"telephone\": data.get(\"telephone\", \"Undefined\"),\n",
        "        \"image\": data.get(\"image\", \"Undefined\"),\n",
        "        \"description\": data.get(\"description\", \"Undefined\")\n",
        "    }\n",
        "    if \"address\" in data:\n",
        "      address_parts = [\n",
        "          data[\"address\"].get(\"streetAddress\", \"\"),\n",
        "          data[\"address\"].get(\"addressLocality\", \"\"),\n",
        "          data[\"address\"].get(\"addressRegion\", \"\"),\n",
        "          data[\"address\"].get(\"postalCode\", \"\"),\n",
        "          data[\"address\"][\"addressCountry\"].get(\"name\", \"\")\n",
        "      ]\n",
        "      # Filter out empty strings and join with a comma\n",
        "      property_overview[\"address\"] = ', '.join(filter(None, address_parts))\n",
        "    else:\n",
        "      property_overview[\"address\"] = \"Undefined\"\n",
        "\n",
        "    # Conditionally add amenities if they exist\n",
        "    if \"amenityFeature\" in data:\n",
        "      property_overview[\"amenities\"] = {feature.get(\"name\", \"\"): feature.get(\"value\", \"\") for feature in data[\"amenityFeature\"]}\n",
        "    else:\n",
        "      property_overview[\"amenities\"] = {\"Undefined\"}\n",
        "\n",
        "    # Update the global dictionary for property overviews\n",
        "    all_property_overviews[property_id] = property_overview\n",
        "\n",
        "    # Extract and restructure unit details\n",
        "    unit_details = [\n",
        "        {\n",
        "            \"property_id\": property_id,  # Link to property by ID\n",
        "            \"unit_name\": unit[\"name\"],\n",
        "            \"description\": unit[\"description\"],\n",
        "            \"squareFeet\": next((prop[\"value\"] for prop in unit[\"additionalProperty\"] if prop[\"name\"] == \"Square Feet\"), None),\n",
        "            \"availabilityDate\": next((prop[\"value\"] for prop in unit[\"additionalProperty\"] if prop[\"name\"] == \"Availability Date\"), None),\n",
        "            \"utilitiesIncluded\": next((prop[\"value\"] for prop in unit[\"additionalProperty\"] if prop[\"name\"] == \"Utilities Included\"), None)\n",
        "        } for unit in data.get(\"containsPlace\", [])\n",
        "    ]\n",
        "\n",
        "    for unit_detail in unit_details:\n",
        "        # Sanitize the unit_name to remove spaces and special characters for use as a key\n",
        "        sanitized_unit_name = re.sub(r'\\W+', '_', unit_detail[\"unit_name\"])  # Replace non-word characters with underscore\n",
        "        key = f'{property_id}_{sanitized_unit_name}'\n",
        "        all_unit_details[key] = unit_detail"
      ]
    },
    {
      "cell_type": "code",
      "execution_count": null,
      "id": "7bUEVtHRGSHE",
      "metadata": {
        "cellView": "form",
        "id": "7bUEVtHRGSHE"
      },
      "outputs": [],
      "source": [
        "# @title #### Kijiji Parser Function\n",
        "def parse_json_data_kk(content, link):\n",
        "\n",
        "  script_content_var = None\n",
        "  script_content_window = None\n",
        "  match_link = re.search(r'/(\\d+)$', link)\n",
        "  property_id = match_link.group(1)\n",
        "  soup = BeautifulSoup(content, 'html.parser')\n",
        "\n",
        "  # Find the meta tag with the name 'description'\n",
        "  description_container = soup.find('div', class_='descriptionContainer-2067035870')\n",
        "  if description_container and description_container.div:\n",
        "      description = description_container.div.get_text(separator='\\n').strip()\n",
        "  else:\n",
        "      description = \"Undefined\"\n",
        "\n",
        "  # Find address\n",
        "  adLocation_tags = soup.find_all('span', itemprop=\"address\")\n",
        "\n",
        "  adLocation = {f\"address_{index+1}\": tag.get_text().strip()\n",
        "                    for index, tag in enumerate(adLocation_tags)} if adLocation_tags else {\"Undefined\": \"Undefined\"}\n",
        "\n",
        "  # Find date posted - Assuming this extracts the text correctly, or you might need to adjust based on actual content\n",
        "  date = soup.select_one(\"div[class*=datePosted-1776470403]\").get_text() if soup.select_one(\"div[class*=datePosted-1776470403]\") else \"Undefined\"\n",
        "\n",
        "  script_tag_var = soup.find('script', string=re.compile('var dataLayer ='))\n",
        "  if script_tag_var is not None:\n",
        "      script_content_var = script_tag_var.string\n",
        "      match_var = re.search(r'var dataLayer = (\\[.*?\\]);', script_content_var, re.DOTALL)\n",
        "      if match_var:\n",
        "        data_layer = json.loads(match_var.group(1))\n",
        "        item = data_layer[0]\n",
        "        price_info = item.get('a', {}).get('prc', {})\n",
        "  else:\n",
        "    price_info = \"Undefined\"\n",
        "\n",
        "  script_tag_window = soup.find('script', string=re.compile('window\\.__data'))\n",
        "  if script_tag_window is not None:\n",
        "      script_content_window = script_tag_window.string\n",
        "      match_window = re.search(r'window\\.__data=(\\{.*?\\});', script_content_window, re.DOTALL)\n",
        "      if match_window:\n",
        "        data = json.loads(match_window.group(1))\n",
        "        ad_info = data.get(\"config\", {}).get(\"VIP\", {})\n",
        "        ad_location = ad_info.get(\"adLocation\", {})\n",
        "        ad_attributes = ad_info.get(\"adAttributes\", {})\n",
        "        attributes_dict = {}\n",
        "        for attr in ad_attributes:\n",
        "          label = attr['localeSpecificValues']['en']['label']\n",
        "          value = attr['localeSpecificValues']['en']['value']\n",
        "          attributes_dict[label] = value\n",
        "  else:\n",
        "    attributes_dict = \"Undefined\"\n",
        "\n",
        "  all_property_overviews_kk[property_id] = {\n",
        "      \"listing_url\": link,\n",
        "      \"date_posted\": date,\n",
        "      \"address\" : adLocation,\n",
        "      \"price_info\": price_info,\n",
        "      \"description\": description\n",
        "  }\n",
        "  all_unit_details_kk[property_id] = attributes_dict"
      ]
    },
    {
      "cell_type": "code",
      "execution_count": null,
      "id": "k8I84qUn1YCG",
      "metadata": {
        "cellView": "form",
        "id": "k8I84qUn1YCG"
      },
      "outputs": [],
      "source": [
        "# @title #### Parser based on CSV with URLs\n",
        "async def scrape_urls_from_csv(filename,website):\n",
        "    urls = []\n",
        "    # Read URLs from CSV\n",
        "    with open(filename, 'r', newline='') as csvfile:\n",
        "        reader = csv.reader(csvfile)\n",
        "        for row in reader:\n",
        "            if row:  # Check if the row is not empty\n",
        "                urls.append(row[0])\n",
        "    total_urls = len(urls)\n",
        "    print(f\"URLs extracted from the CSV file: {filename}. Total URLs to scrape: {total_urls}\")\n",
        "\n",
        "    # Scraping loop\n",
        "    for index, url in enumerate(urls, start=1):\n",
        "        content = await get_page_content(str(url), wait_rf=False, wait_kk=False)\n",
        "        print(f\"Scraping started for {url}. [{index}/{total_urls}]\")\n",
        "        await asyncio.sleep(0.5)\n",
        "        if website == 'kijiji':\n",
        "          parse_json_data_kk(content, url)\n",
        "        elif website == 'rentfaster':\n",
        "          parse_json_data_rf(content, url)\n",
        "        print(f\"Scraped {index} urls out of {total_urls} total.\")\n",
        "\n",
        "    print(\"Scraping Finished\")"
      ]
    },
    {
      "cell_type": "markdown",
      "id": "TOqNSEkgM0Lp",
      "metadata": {
        "id": "TOqNSEkgM0Lp"
      },
      "source": [
        "### Data Transformation Toolkit\n",
        "General functions to covert data into CSV and DataFrame"
      ]
    },
    {
      "cell_type": "code",
      "execution_count": null,
      "id": "gxUhNgE7dI15",
      "metadata": {
        "cellView": "form",
        "id": "gxUhNgE7dI15"
      },
      "outputs": [],
      "source": [
        "# @title #### Create csv - RentFaster/Kijiji\n",
        "def convert_to_tables(all_property_overviews, all_unit_details, filename_overview, filename_details):\n",
        "    # Convert dictionaries to dataframes, including the keys as a new column\n",
        "    property_overviews_df = pd.DataFrame.from_dict(all_property_overviews, orient='index').reset_index()\n",
        "    unit_details_df = pd.DataFrame.from_dict(all_unit_details, orient='index').reset_index()\n",
        "\n",
        "    # Rename the 'index' column to 'property_id'\n",
        "    property_overviews_df.rename(columns={'index': 'property_id'}, inplace=True)\n",
        "    unit_details_df.rename(columns={'index': 'property_id'}, inplace=True)\n",
        "\n",
        "    # Example: Save to CSV\n",
        "    property_overviews_df.to_csv(filename_overview, index=False)\n",
        "    unit_details_df.to_csv(filename_details, index=False)\n",
        "\n",
        "def convert_rentfaster_to_csv(all_unit_details,all_property_overviews,csv_file_path_details,csv_file_path_overview):\n",
        "    #converting details data into csv\n",
        "    df_details = pd.DataFrame.from_dict(all_unit_details, orient='index').reset_index().rename(columns={'index':'unit_id'})\n",
        "    df_details['description'] = df_details['description'].str.replace(',','')\n",
        "    df_details['unit_name'] = df_details['unit_name'].str.replace(',','')\n",
        "    df_details.to_csv(csv_file_path_details, index=False)\n",
        "\n",
        "    #converting overview data into csv\n",
        "    df_o = pd.DataFrame.from_dict(all_property_overviews, orient='index').reset_index().rename(columns={'index':'property_id'})\n",
        "    df_o['description'] = df_o['description'].apply(lambda x: re.sub(r'[^A-Za-z0-9 ]+', '', x))\n",
        "    df_o.to_csv(csv_file_path_overview, index=False)\n",
        "\n",
        "def convert_kijiji_to_csv(all_unit_details,all_property_overviews,csv_file_path_details,csv_file_path_overview):\n",
        "    #converting details data into csv\n",
        "    df_details = pd.DataFrame.from_dict(all_unit_details, orient='index')\n",
        "    df_details.to_csv(csv_file_path_details, index=False)\n",
        "\n",
        "    #converting overview data into csv\n",
        "    df_o = pd.DataFrame.from_dict(all_property_overviews, orient='index')\n",
        "    df_o['description'] = df_o['description'].apply(lambda x: re.sub(r'[^A-Za-z0-9 ]+', '', x))\n",
        "    df_o.to_csv(csv_file_path_overview, index=False)"
      ]
    },
    {
      "cell_type": "code",
      "execution_count": null,
      "id": "Qg-Zp5i6swG2",
      "metadata": {
        "cellView": "form",
        "id": "Qg-Zp5i6swG2"
      },
      "outputs": [],
      "source": [
        "# @title #### Convert list of URLs into CSV\n",
        "def convert_to_csv(data, filename):\n",
        "  # Open the file in write mode ('w') and create a csv.writer object\n",
        "  count = 0\n",
        "  with open(filename, 'w', newline='') as csvfile:\n",
        "    writer = csv.writer(csvfile)\n",
        "    # Write each row to the CSV file\n",
        "    for list_ in data:\n",
        "      for link in list_:\n",
        "        count += 1\n",
        "        writer.writerow([link])\n",
        "\n",
        "  print(f\"CSV file '{filename}' created successfully. Number of Links: {count}\")"
      ]
    },
    {
      "cell_type": "markdown",
      "id": "KW1Eq_Z07LE_",
      "metadata": {
        "id": "KW1Eq_Z07LE_"
      },
      "source": [
        "## Part 1: Getting your datasets from Web Scraping [Data Collection - Total 20 pts]\n",
        "\n",
        "\n",
        "**Objective**: Create 4 CSVs on the data scraped from Kijiji and RentFaster.\n",
        "\n",
        "For RentFaster, we have selected all cities/areas from AB. We can expand the search and include more provinces as need it but not required. You can select up to 25 locations across Alberta to get the listing data from Rent Faster.\n",
        "\n",
        "For Kijiji, we will be selecting listings from the following [URL](https://www.kijiji.ca/b-for-rent/alberta/page-1/c30349001l9003) and you can pick the number of listing pages you want to scrape links from. The total listing pages are 190. Each page contains 40 listings so you can get up to 7600 URLs from the website, but you are not required to get all the data.\n",
        "\n",
        "\n",
        "In order to get the 20 pts from this step you will need to perform the following:\n",
        "\n",
        "*   Select 1 major city (either Edmonton or Calgary) + 5 other locations. The total selected cities/areas need to be 6, which will be approximately 600+ listings. This can be done in **Step 1**\n",
        "*   Select 1 or up to 3 page ranges from **Step 2**. The total numbers generated by the ranges you picked CANNOT be more than 12. Here is an example of a proper range selection:\n",
        "\n",
        "    * range 1 = [20 - 25], range 2 = [9 - 11], range 3 = [3 - 5] -> Numbers generated [3, 4, 5, 9, 10, 11, 20, 21, 22, 23, 24, 25] Total of 12 page numbers\n",
        "*   Run cells from Step 3 to 9 to generate the CSVs from the data you scraped and follow the instructions\n",
        "\n"
      ]
    },
    {
      "cell_type": "code",
      "execution_count": null,
      "id": "iFEkOA6oISs8",
      "metadata": {
        "cellView": "form",
        "colab": {
          "base_uri": "https://localhost:8080/",
          "height": 299,
          "referenced_widgets": [
            "677e09c5693748f09d21bf828485c1a1",
            "2fdbfe58e211468fad514257bd8aa01c",
            "f4c4a5282f4744d092577c138a30648a",
            "d6f6e508133d4712af98884bd4c92d63",
            "d30f88b5782947ca8ce1da6140c82b95",
            "e66104168b56480a9d1c44c12a370c33",
            "8fe60b0a68554eeeb07247a2c141a22e",
            "33c272153af844b99d8820faf1ffe16d",
            "296f185b3864440191edad27d4234c0a",
            "8642127ba8244c65b0345b9b9ea870f0",
            "bcebc2d3bd024953903aef5bba1dd4e2"
          ]
        },
        "id": "iFEkOA6oISs8",
        "outputId": "7beba66c-cf43-4566-f259-c1c9479e3185"
      },
      "outputs": [
        {
          "data": {
            "application/vnd.jupyter.widget-view+json": {
              "model_id": "677e09c5693748f09d21bf828485c1a1",
              "version_major": 2,
              "version_minor": 0
            },
            "text/plain": [
              "VBox(children=(Label(value='Hold down \"Ctrl\" (Windows/Linux) or \"Cmd\" (Mac) to select multiple locations.'), S…"
            ]
          },
          "metadata": {},
          "output_type": "display_data"
        }
      ],
      "source": [
        "# @title ### Step 1: Alberta Location Selector - RentFaster\n",
        "from ipywidgets import SelectMultiple, VBox, Label, Layout, Text\n",
        "import ipywidgets as widgets\n",
        "\n",
        "# Define your list of options for the multiple select widget\n",
        "options = [\n",
        "  'edmonton', 'calgary', 'cochrane', 'red-deer', 'fort-mcmurray',\n",
        "  'airdrie', 'wetaskiwin', 'lethbridge', 'camrose', 'spruce-grove',\n",
        "  'okotoks', 'chestermere', 'bonnyville', 'st-albert', 'sylvan-lake',\n",
        "  'beaumont', 'morinville', 'leduc', 'grande-prairie', 'peace-river',\n",
        "  'strathmore', 'edson', 'wainwright', 'olds','ponoka'\n",
        "]\n",
        "\n",
        "# Create a text widget for displaying selected options\n",
        "selected_output = Text(\n",
        "    value='',\n",
        "    placeholder='Selected options will appear here',\n",
        "    description='Selected:',\n",
        "    disabled=False,\n",
        "    layout=Layout(width='100%')\n",
        ")\n",
        "\n",
        "# Event handler function\n",
        "def on_selection_change(change):\n",
        "    if change['name'] == 'value':\n",
        "        # Convert selected options to lowercase and update the text widget\n",
        "        selected_options = ', '.join([option.lower() for option in change['new']])\n",
        "        selected_output.value = selected_options\n",
        "\n",
        "# Create the SelectMultiple widget\n",
        "location_selector = SelectMultiple(\n",
        "    options=options,\n",
        "    value=[],  # No default selection\n",
        "    description='Locations',\n",
        "    disabled=False,\n",
        "    layout=Layout(width='100%', height='200px')  # Adjust layout as needed\n",
        ")\n",
        "\n",
        "# Set up the event handler for changes in selection\n",
        "location_selector.observe(on_selection_change, names='value')\n",
        "\n",
        "# Instructions on how to select multiple options\n",
        "instructions = Label('Hold down \"Ctrl\" (Windows/Linux) or \"Cmd\" (Mac) to select multiple locations.')\n",
        "\n",
        "# Group the instructions, the select widget, and the selected output together\n",
        "vbox = VBox([instructions, location_selector, selected_output])\n",
        "display(vbox)"
      ]
    },
    {
      "cell_type": "code",
      "execution_count": null,
      "id": "3JA0roH_b_G6",
      "metadata": {
        "cellView": "form",
        "id": "3JA0roH_b_G6"
      },
      "outputs": [],
      "source": [
        "#@title ### Step 2: Get URLs using the URL generator based on your selection\n",
        "selected_locations = location_selector.value\n",
        "if not selected_locations:\n",
        "  print(\"Please make a selection (at least 1 city) to continue\")\n",
        "else:\n",
        "  rent_faster_urls = await url_generator(selected_locations,False,True)"
      ]
    },
    {
      "cell_type": "code",
      "execution_count": null,
      "id": "cCOjTNvmttxY",
      "metadata": {
        "cellView": "form",
        "colab": {
          "base_uri": "https://localhost:8080/",
          "height": 111,
          "referenced_widgets": [
            "917c4d4aa98640ba9273b6437d0d1880",
            "37cddfeec79b48708ef0e1099cb844c8",
            "c384ae273db842c1b07d0491700427d1",
            "b164e3a996124334a2a07b91f0b82036",
            "b64e38853ee24227961fc309f59244d7",
            "7f40d16da6e04693a4dc99c5da597a0e",
            "6b579ba7103047288e256829f4e06d88",
            "dd8abfcc3d9b4b82893aa2f186bb18eb",
            "0f1cb61deff049668a60a73b52f0586e",
            "de30d51057cf462d86c6811970837df1",
            "9c1a7e4a573a4d5f931324050e9f6be7"
          ]
        },
        "id": "cCOjTNvmttxY",
        "outputId": "231f0a06-704d-40ad-bd12-f0443a877042"
      },
      "outputs": [
        {
          "data": {
            "application/vnd.jupyter.widget-view+json": {
              "model_id": "917c4d4aa98640ba9273b6437d0d1880",
              "version_major": 2,
              "version_minor": 0
            },
            "text/plain": [
              "HTML(value='If you want to save your data as a CSV run this cell and include the name of the file you want, pl…"
            ]
          },
          "metadata": {},
          "output_type": "display_data"
        },
        {
          "data": {
            "application/vnd.jupyter.widget-view+json": {
              "model_id": "b164e3a996124334a2a07b91f0b82036",
              "version_major": 2,
              "version_minor": 0
            },
            "text/plain": [
              "Text(value='', description='Filename:', placeholder='Enter filename here')"
            ]
          },
          "metadata": {},
          "output_type": "display_data"
        },
        {
          "data": {
            "application/vnd.jupyter.widget-view+json": {
              "model_id": "6b579ba7103047288e256829f4e06d88",
              "version_major": 2,
              "version_minor": 0
            },
            "text/plain": [
              "Button(description='Save as CSV', style=ButtonStyle(), tooltip='Save your data as a CSV file')"
            ]
          },
          "metadata": {},
          "output_type": "display_data"
        },
        {
          "data": {
            "application/vnd.jupyter.widget-view+json": {
              "model_id": "de30d51057cf462d86c6811970837df1",
              "version_major": 2,
              "version_minor": 0
            },
            "text/plain": [
              "Output()"
            ]
          },
          "metadata": {},
          "output_type": "display_data"
        }
      ],
      "source": [
        "#@title ### Step 3: Convert list of URLs into CSV - RentFaster\n",
        "import ipywidgets as widgets\n",
        "from IPython.display import display, clear_output\n",
        "\n",
        "output = widgets.Output()\n",
        "\n",
        "# Text input widget for the filename\n",
        "filename_input = widgets.Text(\n",
        "    value='',\n",
        "    placeholder='Enter filename here',\n",
        "    description='Filename:',\n",
        "    disabled=False\n",
        ")\n",
        "\n",
        "# Button to trigger the save action\n",
        "save_button = widgets.Button(\n",
        "    description='Save as CSV',\n",
        "    disabled=False,\n",
        "    button_style='',\n",
        "    tooltip='Save your data as a CSV file',\n",
        ")\n",
        "\n",
        "# Label for instructions\n",
        "instructions = widgets.HTML(\n",
        "    value=\"If you want to save your data as a CSV run this cell and include the name of the file you want, \"\n",
        "          \"please <strong>ONLY use letter and numbers</strong>.\"\n",
        ")\n",
        "\n",
        "def save_to_csv(b):\n",
        "    with output:\n",
        "        clear_output(wait=True)\n",
        "        filename = filename_input.value\n",
        "        # Validate filename: contains only letters and numbers\n",
        "        if re.match(\"^[a-zA-Z0-9]+$\", filename):  # Ensure filename is not empty and matches the criteria\n",
        "            convert_to_csv(rent_faster_urls, f\"{filename}.csv\")  # Call the function with the provided filename\n",
        "            print(f\"Data saved successfully to {filename}.csv.\")\n",
        "        else:\n",
        "            print(\"Error: Filename should only contain letters and numbers and cannot be empty.\")\n",
        "\n",
        "# Set the button click event handler\n",
        "save_button.on_click(save_to_csv)\n",
        "\n",
        "# Display the widgets\n",
        "display(instructions, filename_input, save_button, output)"
      ]
    },
    {
      "cell_type": "code",
      "execution_count": null,
      "id": "2LwpUz4ljxGx",
      "metadata": {
        "cellView": "form",
        "colab": {
          "base_uri": "https://localhost:8080/",
          "height": 199,
          "referenced_widgets": [
            "567fe370bd0a4349a5210d82b16af85d",
            "59623626512c44ceb253abd03fee545d",
            "dba1daeb7205479daed053dd072db0ad",
            "8d49a8e016fb4bdbbf02f096e95842fa",
            "821bc5c546f346f7a79cd74eabe50788",
            "87db55ade0fe43afa19b42ff82ab9126",
            "802323b4258a49d8bfbce46476608c45",
            "58345f2bf11b4f3fbc063e73d65ce538",
            "ecc7a455b2db4460a00b14076f937a49",
            "70bc039d2f04474892bbd15ce54f2e9f",
            "bb38b9a123ab425f872b05d0732f31dd",
            "872b17a7f35b433d9e5193d230138822",
            "dc92d1dc836e43e4b0c264ec05e7712f",
            "2662e5ffa0904ffe9ea86e84ed0feff5"
          ]
        },
        "id": "2LwpUz4ljxGx",
        "outputId": "10c777c4-7009-4c2e-cc72-63eb27ab6f35"
      },
      "outputs": [
        {
          "data": {
            "application/vnd.jupyter.widget-view+json": {
              "model_id": "567fe370bd0a4349a5210d82b16af85d",
              "version_major": 2,
              "version_minor": 0
            },
            "text/plain": [
              "HTML(value=\"This code will help you select the listing numbers you want to retrieve data from Kijiji.<br>You c…"
            ]
          },
          "metadata": {},
          "output_type": "display_data"
        },
        {
          "data": {
            "application/vnd.jupyter.widget-view+json": {
              "model_id": "8d49a8e016fb4bdbbf02f096e95842fa",
              "version_major": 2,
              "version_minor": 0
            },
            "text/plain": [
              "IntRangeSlider(value=(1, 10), continuous_update=False, description='Pick a range:', max=190, min=1)"
            ]
          },
          "metadata": {},
          "output_type": "display_data"
        },
        {
          "data": {
            "application/vnd.jupyter.widget-view+json": {
              "model_id": "802323b4258a49d8bfbce46476608c45",
              "version_major": 2,
              "version_minor": 0
            },
            "text/plain": [
              "Button(description='Add New Range', style=ButtonStyle())"
            ]
          },
          "metadata": {},
          "output_type": "display_data"
        },
        {
          "data": {
            "application/vnd.jupyter.widget-view+json": {
              "model_id": "70bc039d2f04474892bbd15ce54f2e9f",
              "version_major": 2,
              "version_minor": 0
            },
            "text/plain": [
              "Button(description='Generate Numbers', style=ButtonStyle())"
            ]
          },
          "metadata": {},
          "output_type": "display_data"
        },
        {
          "data": {
            "application/vnd.jupyter.widget-view+json": {
              "model_id": "dc92d1dc836e43e4b0c264ec05e7712f",
              "version_major": 2,
              "version_minor": 0
            },
            "text/plain": [
              "Output()"
            ]
          },
          "metadata": {},
          "output_type": "display_data"
        }
      ],
      "source": [
        "# @title ### Step 4: Range Selector - Kijiji\n",
        "from ipywidgets import IntRangeSlider, VBox, Button, Output, HTML\n",
        "from IPython.display import display, clear_output\n",
        "\n",
        "range_sliders = []  # List to keep track of range sliders\n",
        "selected_ranges_output = Output()  # Widget to display the selected ranges and generated numbers\n",
        "generated_numbers = []\n",
        "# Using HTML widget instead of Label to incorporate line breaks for new lines\n",
        "description_html = HTML(\n",
        "    value=\"This code will help you select the listing numbers you want to retrieve data from Kijiji.<br>\"\n",
        "          \"You can select up to 3 ranges from the selector\"\n",
        "          \"Once a range has been selected, you would need to click on <strong>'Add New Range'</strong>.<br>\"\n",
        "          \"After selecting all your ranges you would need to click on <strong>'Generate Numbers'</strong>. If you want to delete your selection, just clear the output of <strong>THIS CELL</strong> and run it again\"\n",
        ")\n",
        "def add_range_slider(b=None):\n",
        "    \"\"\"Adds a new range slider to the list and updates the display.\"\"\"\n",
        "    if len(range_sliders) < 3:  # Limit to 3 range sliders\n",
        "        new_range_slider = IntRangeSlider(\n",
        "            value=[1, 10],\n",
        "            min=1,\n",
        "            max=190,\n",
        "            step=1,\n",
        "            description='Pick a range:',\n",
        "            disabled=False,\n",
        "            continuous_update=False,\n",
        "            orientation='horizontal',\n",
        "            readout=True\n",
        "        )\n",
        "        range_sliders.append(new_range_slider)\n",
        "        update_display()\n",
        "    else:\n",
        "        with selected_ranges_output:\n",
        "            clear_output(wait=True)  # Clear any previous output messages\n",
        "            print(\"Maximum of 3 ranges reached.\")\n",
        "\n",
        "def collect_ranges_and_generate_numbers(b):\n",
        "    \"\"\"Collects ranges from sliders, generates numbers within those ranges, and displays the result.\"\"\"\n",
        "    with selected_ranges_output:\n",
        "        clear_output(wait=True)  # Clear the previous output\n",
        "        all_ranges = [slider.value for slider in range_sliders]\n",
        "        for r in all_ranges:\n",
        "            generated_numbers.extend(list(range(r[0], r[1] + 1)))  # Generate numbers within the range\n",
        "        print(\"Selected ranges:\", ', '.join([f\"{r[0]}-{r[1]}\" for r in all_ranges]))\n",
        "        print(\"Generated numbers:\", generated_numbers)\n",
        "\n",
        "def update_display():\n",
        "    \"\"\"Updates the display with all widgets.\"\"\"\n",
        "    clear_output(wait=True)  # Clear the previous output including sliders\n",
        "    display(description_html)  # Display the instructions with HTML for line breaks\n",
        "    for slider in range_sliders:\n",
        "        display(slider)\n",
        "    display(add_range_btn)\n",
        "    display(collect_ranges_btn)\n",
        "    display(selected_ranges_output)\n",
        "\n",
        "# Button to add a new range slider\n",
        "add_range_btn = Button(description='Add New Range')\n",
        "add_range_btn.on_click(add_range_slider)\n",
        "\n",
        "# Button to collect ranges and generate numbers\n",
        "collect_ranges_btn = Button(description='Generate Numbers')\n",
        "collect_ranges_btn.on_click(collect_ranges_and_generate_numbers)\n",
        "\n",
        "# Initial call to add the first range slider and display everything\n",
        "add_range_slider()\n",
        "\n",
        "# Initially display the widgets\n",
        "update_display()"
      ]
    },
    {
      "cell_type": "code",
      "execution_count": null,
      "id": "mAGBhiC-oAd2",
      "metadata": {
        "cellView": "form",
        "id": "mAGBhiC-oAd2"
      },
      "outputs": [],
      "source": [
        "# @title ### Step 5: Get URLs using the URL generator based on your page range selection\n",
        "# @markdown Now that we have the ranges selected we will scrape the URLs from each page in the listing within the Kijiji website. **Run this cell**\n",
        "\n",
        "if not generated_numbers:\n",
        "  print(\"Please make a selection (at least 1 city) to continue\")\n",
        "else:\n",
        "  kijiji_urls = await url_generator(generated_numbers,True,False)"
      ]
    },
    {
      "cell_type": "code",
      "execution_count": null,
      "id": "UNIRzFGRGH1Q",
      "metadata": {
        "cellView": "form",
        "colab": {
          "base_uri": "https://localhost:8080/",
          "height": 111,
          "referenced_widgets": [
            "d9cdefa90bb24719abd5d27b892bb9ff",
            "098986b14a23403c82d7ab18cc9cfeb3",
            "b3448bc34ea749a6ade79e9146198a08",
            "9dec0c99cb114d3c97791dcf3037cde7",
            "756db753a07a4275a9b99c5f2c5fd7c9",
            "603627b1498f4fa487f71074fb79c0ae",
            "946380634d52405b86b1b6d608aa0b01",
            "7d457334f40945d4ab540046db68bcc1",
            "1b64d76b53f144abbd8325c381c7b901",
            "99656bde52d34a8c9c62717f2ab9503e",
            "611a2123fa4d43fea75c5fd92223d050"
          ]
        },
        "id": "UNIRzFGRGH1Q",
        "outputId": "696fc876-c640-4d5a-c809-1da9e0ed5128"
      },
      "outputs": [
        {
          "data": {
            "application/vnd.jupyter.widget-view+json": {
              "model_id": "d9cdefa90bb24719abd5d27b892bb9ff",
              "version_major": 2,
              "version_minor": 0
            },
            "text/plain": [
              "HTML(value='If will need to save your URLs data as a CSV, please run this cell and include the name of the fil…"
            ]
          },
          "metadata": {},
          "output_type": "display_data"
        },
        {
          "data": {
            "application/vnd.jupyter.widget-view+json": {
              "model_id": "9dec0c99cb114d3c97791dcf3037cde7",
              "version_major": 2,
              "version_minor": 0
            },
            "text/plain": [
              "Text(value='', description='Filename:', placeholder='Enter filename here')"
            ]
          },
          "metadata": {},
          "output_type": "display_data"
        },
        {
          "data": {
            "application/vnd.jupyter.widget-view+json": {
              "model_id": "946380634d52405b86b1b6d608aa0b01",
              "version_major": 2,
              "version_minor": 0
            },
            "text/plain": [
              "Button(description='Save as CSV', style=ButtonStyle(), tooltip='Save your data as a CSV file')"
            ]
          },
          "metadata": {},
          "output_type": "display_data"
        },
        {
          "data": {
            "application/vnd.jupyter.widget-view+json": {
              "model_id": "99656bde52d34a8c9c62717f2ab9503e",
              "version_major": 2,
              "version_minor": 0
            },
            "text/plain": [
              "Output()"
            ]
          },
          "metadata": {},
          "output_type": "display_data"
        }
      ],
      "source": [
        "# @title ### Step 6: Convert list of URLs into CSV - Kijiji\n",
        "import ipywidgets as widgets\n",
        "from IPython.display import display, clear_output\n",
        "output = widgets.Output()\n",
        "\n",
        "# Text input widget for the filename\n",
        "filename_input = widgets.Text(\n",
        "    value='',\n",
        "    placeholder='Enter filename here',\n",
        "    description='Filename:',\n",
        "    disabled=False\n",
        ")\n",
        "\n",
        "# Button to trigger the save action\n",
        "save_button = widgets.Button(\n",
        "    description='Save as CSV',\n",
        "    disabled=False,\n",
        "    button_style='',\n",
        "    tooltip='Save your data as a CSV file',\n",
        ")\n",
        "\n",
        "# Label for instructions\n",
        "instructions = widgets.HTML(\n",
        "    value=\"If will need to save your URLs data as a CSV, please run this cell and include the name of the file you want, \"\n",
        "          \"<strong>ONLY use letter and numbers</strong>.\"\n",
        ")\n",
        "\n",
        "def save_to_csv(b):\n",
        "    with output:\n",
        "        clear_output(wait=True)\n",
        "        filename = filename_input.value\n",
        "        # Validate filename: contains only letters and numbers\n",
        "        if re.match(\"^[a-zA-Z0-9]+$\", filename):  # Ensure filename is not empty and matches the criteria\n",
        "            convert_to_csv(kijiji_urls, f\"{filename}.csv\")  # Call the function with the provided filename\n",
        "            print(f\"Data saved successfully to {filename}.csv.\")\n",
        "        else:\n",
        "            print(\"Error: Filename should only contain letters and numbers and cannot be empty.\")\n",
        "\n",
        "# Set the button click event handler\n",
        "save_button.on_click(save_to_csv)\n",
        "\n",
        "# Display the widgets\n",
        "display(instructions, filename_input, save_button, output)\n"
      ]
    },
    {
      "cell_type": "markdown",
      "id": "Qt0hIQ59p9j7",
      "metadata": {
        "id": "Qt0hIQ59p9j7"
      },
      "source": [
        "**Important NOTE**\n",
        "\n",
        "Because we are dealing with 2 datasets (Kijiji and RentFaster) you will need to perform the following steps in this order:\n",
        "\n",
        "1. Select csv with URLs from either Kijiji or RentFaster (Step 7)\n",
        "2. Initialize variables (Step 7.1)\n",
        "3. Perform the scraping on the selected data (Step 8)\n",
        "4. Saved the craped data (Step 9)\n",
        "\n",
        "After you have done it once for either Kijiji or RentFaster, you will need to do perform the following steps in this order:\n",
        "\n",
        "1. Select csv with URLs from either Kijiji or RentFaster (Step 7)\n",
        "2. Perform the scraping on the selected data (Step 8)\n",
        "3. Saved the craped data (Step 9)\n",
        "\n",
        "**DO NOT PERFORM** step 7.1 again as it will delete your data. Remember to download in your computer the generated CSV files to have a backup!"
      ]
    },
    {
      "cell_type": "code",
      "execution_count": null,
      "id": "L_U9Y2FA4ZTa",
      "metadata": {
        "cellView": "form",
        "id": "L_U9Y2FA4ZTa"
      },
      "outputs": [],
      "source": [
        "# @title ### Step 7: Select CSV and Website\n",
        "# @markdown Please select the name of the file you have the URLs saved (from Step 6), it should be in CSV format. You also need to select the website of the URLs either Kijiji or RentFaster. After you have made your selection **you need to run this cell**\n",
        "\n",
        "# @markdown ---\n",
        "# @markdown #### Enter a file name:\n",
        "file_name = \"\" # @param {type:\"string\"}\n",
        "# @markdown ---\n",
        "# @markdown #### Enter the website name:\n",
        "website = 'rentfaster' # @param [\"kijiji\",\"rentfaster\"]"
      ]
    },
    {
      "cell_type": "code",
      "execution_count": null,
      "id": "0wu_iKKt_8YF",
      "metadata": {
        "cellView": "form",
        "id": "0wu_iKKt_8YF"
      },
      "outputs": [],
      "source": [
        "# @title ##### Step 7.1: Initialize/Reset global variables\n",
        "# @markdown Initialize or **Reset** the following variables: `all_property_overviews_kk`, `all_unit_details_kk` for **Kijiji** and `all_property_overviews`, `all_unit_details` for **RentFaster**\n",
        "\n",
        "# @markdown Run once to create the variables, if you run it again it will reset the variables **Use with caution as you MIGHT LOSS YOUR DATA**\n",
        "all_property_overviews_kk = {}\n",
        "all_unit_details_kk = {}\n",
        "all_property_overviews = {}\n",
        "all_unit_details = {}"
      ]
    },
    {
      "cell_type": "code",
      "execution_count": null,
      "id": "d6UmwF4Q2XhX",
      "metadata": {
        "cellView": "form",
        "colab": {
          "base_uri": "https://localhost:8080/"
        },
        "id": "d6UmwF4Q2XhX",
        "outputId": "b0f8e3e0-b04d-462f-cead-bf32e962b920"
      },
      "outputs": [
        {
          "name": "stdout",
          "output_type": "stream",
          "text": [
            "Please run the steps above to select a file name and website\n"
          ]
        }
      ],
      "source": [
        "# @title ### Step 8: Scrape the URLs\n",
        "# @markdown Execute this cell to Scrape and Parse URLs from CSV you selected on Step 7. The results from the parsing will be saved in the following variables: `all_property_overviews_kk`, `all_unit_details_kk` for **Kijiji** and `all_property_overviews`, `all_unit_details` for **RentFaster**\n",
        "try:\n",
        "  await scrape_urls_from_csv(file_name,website)\n",
        "  back_up_overviews.update(all_property_overviews_kk)\n",
        "  back_up_overviews.update(all_property_overviews)\n",
        "  back_up_details.update(all_unit_details)\n",
        "  back_up_details.update(all_unit_details_kk)\n",
        "except:\n",
        "  print(\"Please run the steps above to select a file name and website\")"
      ]
    },
    {
      "cell_type": "code",
      "execution_count": null,
      "id": "G8JutFC8B4BZ",
      "metadata": {
        "cellView": "form",
        "colab": {
          "base_uri": "https://localhost:8080/"
        },
        "id": "G8JutFC8B4BZ",
        "outputId": "27b8cce7-a604-47bd-adbd-c2cc866cfa94"
      },
      "outputs": [
        {
          "name": "stdout",
          "output_type": "stream",
          "text": [
            "Please run all steps above before executing this cell, the data should be generated before reaching this point.\n"
          ]
        }
      ],
      "source": [
        "# @title ### Step 9: Covert data into DataFrame and saved it as a CSV (10 pts for Kijiji - 10 pts for RentFaster)\n",
        "\n",
        "# @markdown #### **You will need to perform this twice! Once for Kijiji and Once for RentFaster, your total files will be 4 csv.**\n",
        "# @markdown ---\n",
        "# @markdown Now that you have your data, you will need to save it in 2 csv files, each csv file will contain the property_id along with either the overview or the details for that listing. Once you execute this cell I strongly recommend you to download the files generated by accessing them on the left side of your google colab by clicking on the folder icon.\n",
        "\n",
        "# @markdown ---\n",
        "# @markdown #### Enter a file name for unit details data (include .csv):\n",
        "\n",
        "filename_details = \"\" # @param {type:\"string\"}\n",
        "# @markdown ---\n",
        "# @markdown #### Enter a file name for property overview data (include .csv):\n",
        "filename_overview = \"\" # @param {type:\"string\"}\n",
        "# @markdown #### Enter the website name of the data you want to save:\n",
        "website = 'rentfaster' # @param [\"kijiji\",\"rentfaster\"]\n",
        "\n",
        "try:\n",
        "  if website == 'kijiji':\n",
        "    convert_kijiji_to_csv(all_unit_details_kk,all_property_overviews_kk,filename_details,filename_overview)\n",
        "  elif website == 'rentfaster':\n",
        "    convert_rentfaster_to_csv(all_unit_details,all_property_overviews,filename_details,filename_overview)\n",
        "  else:\n",
        "    print(\"Something went wrong, please check your selections\")\n",
        "except:\n",
        "  print(\"Please run all steps above before executing this cell, the data should be generated before reaching this point.\")"
      ]
    },
    {
      "cell_type": "markdown",
      "id": "NUnQ7oT9fisM",
      "metadata": {
        "id": "NUnQ7oT9fisM"
      },
      "source": [
        "## Part 2: DataFrame, Tables creation and Yelp API setup [Data Management - Total 20 pts]\n",
        "\n",
        "At this point you should have the data from Step 9 into a CSV. In this part, you are required to convert that data into spark dataframe to perfom on them your data exploration. Remember that you will be working with the raw data from our rental housing scraper, double check ALWAYS your data to better understand what you need to do with it."
      ]
    },
    {
      "cell_type": "markdown",
      "id": "wKudMXhLZdSt",
      "metadata": {
        "id": "wKudMXhLZdSt"
      },
      "source": [
        "### Install and set up Pyspark and its associated requirements:\n",
        "\n",
        "`pyspark` is the Python API for Apache Spark, an open-source, distributed computing system that provides an interface for programming entire clusters with implicit data parallelism and fault tolerance. When dealing with web scraped data from rental listings on RentFaster and Kijiji, `pyspark` enables efficient data processing and analysis at scale. Here's how it contributes to our project:\n",
        "\n",
        "- **Data Exploration**: `pyspark` allows for comprehensive data exploration, including summarizing datasets, querying specific information (e.g., average rental prices, most common amenities), and identifying trends within the rental market of Alberta, Canada.\n",
        "\n",
        "- **Data Transformation**: The data scraped from these websites often requires cleaning and transformation to be useful for analysis. `pyspark` provides a wide array of functions for data manipulation, such as filtering, grouping, and aggregating data. This is essential for preparing the web scraped data, which may include varying formats, missing values, or irrelevant information, into a structured and analysis-ready format.\n",
        "\n",
        "`findspark` is a helper library designed to make it easier to find and start using Apache Spark's `pyspark` within Python applications. Essentially, it simplifies the process of initializing Spark in Python scripts by locating the Spark installation (which can sometimes be a challenge due to environment variables and path configurations).\n",
        "\n",
        "- **Seamless Integration**: By using `findspark`, you can more easily integrate Apache Spark into your Python environment for web scraping projects. It ensures that `pyspark` can be imported and used in your scripts as any other Python library, without the need for cumbersome setup processes or environment configuration. This is particularly useful in educational or experimental projects where simplifying the setup process can save valuable time and effort.\n"
      ]
    },
    {
      "cell_type": "code",
      "execution_count": null,
      "id": "qWISOwMbZ5HD",
      "metadata": {
        "colab": {
          "base_uri": "https://localhost:8080/"
        },
        "id": "qWISOwMbZ5HD",
        "outputId": "6b73fb92-a079-4289-a1e2-8c11dadd487f"
      },
      "outputs": [
        {
          "name": "stdout",
          "output_type": "stream",
          "text": [
            "Collecting pyspark\n",
            "  Downloading pyspark-3.5.1.tar.gz (317.0 MB)\n",
            "\u001b[2K     \u001b[90m━━━━━━━━━━━━━━━━━━━━━━━━━━━━━━━━━━━━━━━━\u001b[0m \u001b[32m317.0/317.0 MB\u001b[0m \u001b[31m1.2 MB/s\u001b[0m eta \u001b[36m0:00:00\u001b[0m\n",
            "\u001b[?25h  Preparing metadata (setup.py) ... \u001b[?25l\u001b[?25hdone\n",
            "Requirement already satisfied: py4j==0.10.9.7 in /usr/local/lib/python3.10/dist-packages (from pyspark) (0.10.9.7)\n",
            "Building wheels for collected packages: pyspark\n",
            "  Building wheel for pyspark (setup.py) ... \u001b[?25l\u001b[?25hdone\n",
            "  Created wheel for pyspark: filename=pyspark-3.5.1-py2.py3-none-any.whl size=317488491 sha256=33166670ebb838a21f4eab1046b7449bc606e2a08a6ca3162830265ea557bc60\n",
            "  Stored in directory: /root/.cache/pip/wheels/80/1d/60/2c256ed38dddce2fdd93be545214a63e02fbd8d74fb0b7f3a6\n",
            "Successfully built pyspark\n",
            "Installing collected packages: pyspark\n",
            "Successfully installed pyspark-3.5.1\n",
            "Collecting findspark\n",
            "  Downloading findspark-2.0.1-py2.py3-none-any.whl (4.4 kB)\n",
            "Installing collected packages: findspark\n",
            "Successfully installed findspark-2.0.1\n"
          ]
        }
      ],
      "source": [
        " !pip install pyspark\n",
        " !pip install findspark"
      ]
    },
    {
      "cell_type": "markdown",
      "id": "28uqG8P7c-G3",
      "metadata": {
        "id": "28uqG8P7c-G3"
      },
      "source": [
        "### Spark Libraries Explained\n",
        "\n",
        "- **`os`**: This is a standard Python library that provides a way to interact with the operating system. `os` is used to perform operations like navigating the file system, changing and retrieving directory information, managing files, and accessing environment variables.\n",
        "\n",
        "- **`findspark`**: A utility library designed to make it easier to find and connect to an Apache Spark installation from Python applications. When working with Spark, setting up environment variables and paths correctly is important to successfully starting a Spark session. `findspark` simplifies this process by automatically locating the Spark installation on your system and setting the required environment variables, eliminating the need for manual configuration.\n",
        "\n",
        "- **`findspark.init()`**: This function call is used to initialize Spark in the Python script. It must be called before importing and using `pyspark`, as it sets up the environment by locating the Spark installation and setting the necessary environment variables. This step ensures that `pyspark` can be imported without issues related to finding the Spark installation.\n",
        "\n",
        "- **`pyspark`**: The Python API for Apache Spark, `pyspark` allows Python programmers to interface with Spark's distributed data processing capabilities. By importing `pyspark`, you gain access to Spark's core functionalities, including creating RDDs (Resilient Distributed Datasets), transformations, and actions on these datasets, enabling large-scale data processing.\n",
        "\n",
        "- **`from pyspark.sql import SparkSession`**: SparkSession is the entry point to programming Spark with the Dataset and DataFrame API. A SparkSession can be used to create DataFrame objects, register DataFrame as tables, execute SQL queries, and read data from an external source. Importing SparkSession is essential for working with Spark SQL and DataFrame operations, which are powerful tools for data analysis, especially when dealing with structured data like that obtained from web scraping."
      ]
    },
    {
      "cell_type": "code",
      "execution_count": null,
      "id": "QsB-AXhEaFvV",
      "metadata": {
        "id": "QsB-AXhEaFvV"
      },
      "outputs": [],
      "source": [
        "import os\n",
        "import findspark\n",
        "findspark.init()\n",
        "# only run after findspark.init()\n",
        "import pyspark\n",
        "from pyspark.sql import SparkSession"
      ]
    },
    {
      "cell_type": "markdown",
      "id": "MXBpU28OkWpM",
      "metadata": {
        "id": "MXBpU28OkWpM"
      },
      "source": [
        "### Step 1: Initializing a spark cluster (5 pts)\n",
        "\n",
        "Include your code below to initialize the spark cluster and add a verification step as well. Use a meaninful name for the PySpark App Name"
      ]
    },
    {
      "cell_type": "code",
      "execution_count": null,
      "id": "-fUQHgFDkh6z",
      "metadata": {
        "id": "-fUQHgFDkh6z"
      },
      "outputs": [],
      "source": [
        "#Your code goes here"
      ]
    },
    {
      "cell_type": "markdown",
      "id": "cPjDqHdqH9GO",
      "metadata": {
        "id": "cPjDqHdqH9GO"
      },
      "source": [
        "Verification step"
      ]
    },
    {
      "cell_type": "code",
      "execution_count": null,
      "id": "BFt-ZPfqH_Zk",
      "metadata": {
        "id": "BFt-ZPfqH_Zk"
      },
      "outputs": [],
      "source": [
        "#Your code goes here"
      ]
    },
    {
      "cell_type": "markdown",
      "id": "ftzBPUO3knZi",
      "metadata": {
        "id": "ftzBPUO3knZi"
      },
      "source": [
        "### Step 2: Create dataframes for analytics [Total of 15 pts]\n",
        "\n",
        "Create the PySpark dataframe with the csv data you got from Part 1 - Step 9. Remember that you can always check your files on the left folder icon within your google colab. You can use the following link to get an idea on how to do it: https://spark.apache.org/docs/latest/sql-data-sources-csv.html\n",
        "\n",
        "**Tips:**\n",
        "\n",
        "*   You should create a independent dataframe for each csv, use meaninful names!\n",
        "*   The CSV can contain newlines, to parse it you would need to consider using the \"multiLine\" option for `spark.read`\n",
        "*   By default headers are not including, but you need to include them! Look for the option to accomplish this\n",
        "*   Remember to use the `<your-PySparDF>.show(truncate=False)` to see how your data is looking!\n",
        "*   Check your practice Lab6 on how yo create your headers and parameters to get data from the API\n",
        "\n"
      ]
    },
    {
      "cell_type": "markdown",
      "id": "pap1q5mQPcpM",
      "metadata": {
        "id": "pap1q5mQPcpM"
      },
      "source": [
        "Step 2.1: Create PySpark dataframes **Kijiji** (5 pts)"
      ]
    },
    {
      "cell_type": "code",
      "execution_count": null,
      "id": "cnr_A-sQkrnn",
      "metadata": {
        "id": "cnr_A-sQkrnn"
      },
      "outputs": [],
      "source": [
        "#Your code goes here"
      ]
    },
    {
      "cell_type": "markdown",
      "id": "wJbceFF_RHcA",
      "metadata": {
        "id": "wJbceFF_RHcA"
      },
      "source": [
        "Step 2.2: Create PySpark dataframes **RentFaster** (5 pts)"
      ]
    },
    {
      "cell_type": "code",
      "execution_count": null,
      "id": "sxHBjvozSDUC",
      "metadata": {
        "id": "sxHBjvozSDUC"
      },
      "outputs": [],
      "source": [
        "# Your code goes here"
      ]
    },
    {
      "cell_type": "markdown",
      "id": "wso0tj7rSgCK",
      "metadata": {
        "id": "wso0tj7rSgCK"
      },
      "source": [
        "Step 2.3: Create Yelp Fusion API **parameters** and **headers** (5 pts)\n",
        "\n",
        "To begin, the first step is to create a Yelp Developer account, which you can accomplish by clicking [here](https://www.yelp.com/developers). After setting up your account, head to the Yelp Fusion API section on the Yelp Developer page and select 'Get Started.' This action will grant you access to API keys that are essential for fetching restaurant data, allowing you to perform queries based on addresses extracted from your rental listings. By integrating Yelp Fusion data with our scraped rental information, we can provide a comprehensive view of each listing's neighborhood amenities, enhancing the value of our dataset with actionable insights for potential renters.\n"
      ]
    },
    {
      "cell_type": "code",
      "execution_count": null,
      "id": "GIbZwIX8SNqW",
      "metadata": {
        "id": "GIbZwIX8SNqW"
      },
      "outputs": [],
      "source": [
        "# Your code goes here"
      ]
    },
    {
      "cell_type": "markdown",
      "id": "_zZOlAG3k3PH",
      "metadata": {
        "id": "_zZOlAG3k3PH"
      },
      "source": [
        "## Part 3: Explore your data [Data Analysis - Total 30 pts]\n",
        "\n",
        "Now that you have created a PySpark dataframe with data from RentFaster and Kijiji, and your code is ready to make requests to the Yelp API, you can begin exploring your data!\n",
        "\n",
        "You can leverage the Yelp Fusion API, which offers a streamlined method to enrich our web-scraped housing data from RentFaster and Kijiji with detailed information about restaurants, including their ratings, based on specific addresses. This integration enables multi-dimensional analysis, providing insights into the dining landscape surrounding rental listings.\n",
        "\n",
        "To achieve this, perform the following steps:\n",
        "\n",
        "1.   Get the top 50 listings with the highest price from both RentFaster and Kijiji\n",
        "(a total of 100 data points, refer to point 1 on **Appendix 1**).\n",
        "2.   Get the bottom 50 listings with the lowest price from both RentFaster and Kijiji (a total of 100 data points, refer to point 2 on **Appendix 1**).\n",
        "3.   Collect the addresses for the top 100 and bottom 100 listings.\n",
        "4.   Perform data cleaning on your address data to remove duplicated locations, if any, from your top and bottom 100 listings.\n",
        "5.  Once you have clean address data, use it to make requests to the Yelp API to obtain a list (in JSON format) of all restaurants near those locations (refer to point 3 on the **Appendix 1**)\n",
        "6.  Create 2 tables using Spark: one for all the restaurants from the top 100 listings and another for those from the bottom 100 listings.\n",
        "7.  Perform a data exploration analysis to try to explain the relationship, if any, between the top/bottom 100 listings and the nearby restaurants. Feel free to create new tables, dataframes, or whatever else you deem necessary for your analysis.\n",
        "\n",
        "**Apendix 1: Important things to consider!!!**\n",
        "\n",
        "1.   The price information for Kijiji listings is stored within the Kijiji overview dataset, in a column called **price_info**. This price is within a JSON string. To retrieve it, use the following approach:\n",
        "\n",
        "```\n",
        "from pyspark.sql import SparkSession\n",
        "from pyspark.sql.functions import col\n",
        "\n",
        "# Selecting the 'amt' key from the 'price_info' column along with other specified columns\n",
        "df = <your_spark_dataframe>.select(\n",
        "    col(\"property_id\"),\n",
        "    col(\"listing_url\"),\n",
        "    col(\"date_posted\"),\n",
        "    col(\"price_info\").getItem(\"amt\").alias(\"amount\")\n",
        ")\n",
        "\n",
        "# Show the resulting DataFrame\n",
        "df.show()\n",
        "```\n",
        "\n",
        "2.   The price information for RentFaster listings is stored within the RentFaster overview dataset, in a column called priceRange. As the name suggests, some listings will have a price range; for those, select the highest price. Use the following approach to clean up the data:\n",
        "\n",
        "```\n",
        "from pyspark.sql.functions import col, split, expr, regexp_replace, when\n",
        "\n",
        "df = <your_spark_dataframe>.withColumn(\n",
        "    \"highestPrice\",  # Name of your new column\n",
        "    when(\n",
        "        col(\"priceRange\").contains(\" - \"),  # Check if there's a range\n",
        "        expr(\"array_max(transform(split(regexp_replace(priceRange, '\\\\$|,', ''), ' - '), x -> cast(x as int)))\") # Removing $ , - and converting to int\n",
        "    ).otherwise(\n",
        "        regexp_replace(col(\"priceRange\"), '\\\\$|,', '').cast(\"int\")  # Handle single price by removing $ and commas and converting to int\n",
        "    )\n",
        ")\n",
        "# Show the resulting DataFrame with the highest price extracted\n",
        "df.show(100)\n",
        "```\n",
        "\n",
        "\n",
        "\n",
        "3.   Once you have cleaned your address data, store the addresses in two lists: one for the top 100 listings and another for the bottom 100 listings. You will need to make requests to the API based on these addresses, with ONE request per address. If you have 50 addresses, you need to make 50 requests. **REMEMBER THAT YOU HAVE A DAILY LIMIT**. Here is a code snippet for reference:\n",
        "\n",
        "```\n",
        "api_key_ = 'YOUR-KEY'\n",
        "address = \"1039 McConachie Blvd. NW,Edmonton,AB,T5Y 3W5\"\n",
        "\n",
        "headers = {\n",
        "    'Authorization': f'Bearer {api_key}',\n",
        "}\n",
        "\n",
        "params = {\n",
        "    'term': 'restaurants',\n",
        "    'location': address,\n",
        "    'limit': 50\n",
        "}\n",
        "```\n",
        "\n",
        "Useful links:\n",
        "\n",
        "https://docs.developer.yelp.com/reference/v3_business_search\n",
        "\n",
        "https://spark.apache.org/docs/latest/api/sql/index.html\n",
        "\n",
        "https://spark.apache.org/docs/latest/sql-ref-functions.html\n",
        "\n",
        "https://spark.apache.org/docs/latest/api/python/reference/pyspark.sql/functions.html"
      ]
    },
    {
      "cell_type": "code",
      "execution_count": null,
      "id": "4NXS0V8HAQR-",
      "metadata": {
        "id": "4NXS0V8HAQR-"
      },
      "outputs": [],
      "source": [
        "# Your code goes here"
      ]
    },
    {
      "cell_type": "code",
      "execution_count": null,
      "id": "e8de01bb",
      "metadata": {},
      "outputs": [],
      "source": []
    },
    {
      "cell_type": "markdown",
      "id": "U3_4QWAdASIn",
      "metadata": {
        "id": "U3_4QWAdASIn"
      },
      "source": [
        "## Part 4: Presentation (30 pts)\n",
        "\n",
        "You will need to create a presentation that would last 10 to 15 min. All memebers for the group should participate. This presentation will be conducted on Monday 22th and Tuesday 23th of April.\n",
        "\n",
        "In this presentation you will need to explain your findings from your data collection, managmenet and exploration. This must include everything such as corrupted data, data cleaning, data transformation, errors when scraping from websitews, data analysis, data limitations etc. You should showcase your work in its fullest!\n",
        "\n",
        "What we are specifically looking is the following:\n",
        "*   Issues faced acquiring your data, this could be limitations with the webscraping procedure\n",
        "*   Data quality issues such as missing values or difficulties when working with multiple datatypes and how to solve/consider those in your analysis\n",
        "*   The highlights and correlations that you derived based on the analysis of the data, you should be able to answer the following questions:\n",
        "  * Is there a correlation between the rental price vs the quality/price on restaurants near by?\n",
        "  * Is the data coming from Yelp of enough quality to drive insides?\n",
        "  * What you would do better or different to arrive to a more conclusive analysis?\n",
        "  * What are your next steps?\n",
        "  * Is this datapipeline you built enough to scale for big data?"
      ]
    }
  ],
  "metadata": {
    "colab": {
      "collapsed_sections": [
        "zn5Gyq1RDPdK",
        "2lVm89NyHrol",
        "DNwhGim2IImo",
        "qKNvGQpfJEvh",
        "k4FgkIZ0I8se",
        "ctTpRJvJj9Tu",
        "7J1GfkLdJmbk",
        "NUnQ7oT9fisM",
        "wKudMXhLZdSt",
        "28uqG8P7c-G3",
        "ftzBPUO3knZi",
        "_zZOlAG3k3PH"
      ],
      "provenance": []
    },
    "kernelspec": {
      "display_name": "Python 3 (ipykernel)",
      "language": "python",
      "name": "python3"
    },
    "language_info": {
      "codemirror_mode": {
        "name": "ipython",
        "version": 3
      },
      "file_extension": ".py",
      "mimetype": "text/x-python",
      "name": "python",
      "nbconvert_exporter": "python",
      "pygments_lexer": "ipython3",
      "version": "3.9.19"
    },
    "widgets": {
      "application/vnd.jupyter.widget-state+json": {
        "098986b14a23403c82d7ab18cc9cfeb3": {
          "model_module": "@jupyter-widgets/base",
          "model_module_version": "1.2.0",
          "model_name": "LayoutModel",
          "state": {
            "_model_module": "@jupyter-widgets/base",
            "_model_module_version": "1.2.0",
            "_model_name": "LayoutModel",
            "_view_count": null,
            "_view_module": "@jupyter-widgets/base",
            "_view_module_version": "1.2.0",
            "_view_name": "LayoutView",
            "align_content": null,
            "align_items": null,
            "align_self": null,
            "border": null,
            "bottom": null,
            "display": null,
            "flex": null,
            "flex_flow": null,
            "grid_area": null,
            "grid_auto_columns": null,
            "grid_auto_flow": null,
            "grid_auto_rows": null,
            "grid_column": null,
            "grid_gap": null,
            "grid_row": null,
            "grid_template_areas": null,
            "grid_template_columns": null,
            "grid_template_rows": null,
            "height": null,
            "justify_content": null,
            "justify_items": null,
            "left": null,
            "margin": null,
            "max_height": null,
            "max_width": null,
            "min_height": null,
            "min_width": null,
            "object_fit": null,
            "object_position": null,
            "order": null,
            "overflow": null,
            "overflow_x": null,
            "overflow_y": null,
            "padding": null,
            "right": null,
            "top": null,
            "visibility": null,
            "width": null
          }
        },
        "0f1cb61deff049668a60a73b52f0586e": {
          "model_module": "@jupyter-widgets/controls",
          "model_module_version": "1.5.0",
          "model_name": "ButtonStyleModel",
          "state": {
            "_model_module": "@jupyter-widgets/controls",
            "_model_module_version": "1.5.0",
            "_model_name": "ButtonStyleModel",
            "_view_count": null,
            "_view_module": "@jupyter-widgets/base",
            "_view_module_version": "1.2.0",
            "_view_name": "StyleView",
            "button_color": null,
            "font_weight": ""
          }
        },
        "1b64d76b53f144abbd8325c381c7b901": {
          "model_module": "@jupyter-widgets/controls",
          "model_module_version": "1.5.0",
          "model_name": "ButtonStyleModel",
          "state": {
            "_model_module": "@jupyter-widgets/controls",
            "_model_module_version": "1.5.0",
            "_model_name": "ButtonStyleModel",
            "_view_count": null,
            "_view_module": "@jupyter-widgets/base",
            "_view_module_version": "1.2.0",
            "_view_name": "StyleView",
            "button_color": null,
            "font_weight": ""
          }
        },
        "2662e5ffa0904ffe9ea86e84ed0feff5": {
          "model_module": "@jupyter-widgets/base",
          "model_module_version": "1.2.0",
          "model_name": "LayoutModel",
          "state": {
            "_model_module": "@jupyter-widgets/base",
            "_model_module_version": "1.2.0",
            "_model_name": "LayoutModel",
            "_view_count": null,
            "_view_module": "@jupyter-widgets/base",
            "_view_module_version": "1.2.0",
            "_view_name": "LayoutView",
            "align_content": null,
            "align_items": null,
            "align_self": null,
            "border": null,
            "bottom": null,
            "display": null,
            "flex": null,
            "flex_flow": null,
            "grid_area": null,
            "grid_auto_columns": null,
            "grid_auto_flow": null,
            "grid_auto_rows": null,
            "grid_column": null,
            "grid_gap": null,
            "grid_row": null,
            "grid_template_areas": null,
            "grid_template_columns": null,
            "grid_template_rows": null,
            "height": null,
            "justify_content": null,
            "justify_items": null,
            "left": null,
            "margin": null,
            "max_height": null,
            "max_width": null,
            "min_height": null,
            "min_width": null,
            "object_fit": null,
            "object_position": null,
            "order": null,
            "overflow": null,
            "overflow_x": null,
            "overflow_y": null,
            "padding": null,
            "right": null,
            "top": null,
            "visibility": null,
            "width": null
          }
        },
        "296f185b3864440191edad27d4234c0a": {
          "model_module": "@jupyter-widgets/controls",
          "model_module_version": "1.5.0",
          "model_name": "DescriptionStyleModel",
          "state": {
            "_model_module": "@jupyter-widgets/controls",
            "_model_module_version": "1.5.0",
            "_model_name": "DescriptionStyleModel",
            "_view_count": null,
            "_view_module": "@jupyter-widgets/base",
            "_view_module_version": "1.2.0",
            "_view_name": "StyleView",
            "description_width": ""
          }
        },
        "2fdbfe58e211468fad514257bd8aa01c": {
          "model_module": "@jupyter-widgets/controls",
          "model_module_version": "1.5.0",
          "model_name": "LabelModel",
          "state": {
            "_dom_classes": [],
            "_model_module": "@jupyter-widgets/controls",
            "_model_module_version": "1.5.0",
            "_model_name": "LabelModel",
            "_view_count": null,
            "_view_module": "@jupyter-widgets/controls",
            "_view_module_version": "1.5.0",
            "_view_name": "LabelView",
            "description": "",
            "description_tooltip": null,
            "layout": "IPY_MODEL_e66104168b56480a9d1c44c12a370c33",
            "placeholder": "​",
            "style": "IPY_MODEL_8fe60b0a68554eeeb07247a2c141a22e",
            "value": "Hold down \"Ctrl\" (Windows/Linux) or \"Cmd\" (Mac) to select multiple locations."
          }
        },
        "33c272153af844b99d8820faf1ffe16d": {
          "model_module": "@jupyter-widgets/base",
          "model_module_version": "1.2.0",
          "model_name": "LayoutModel",
          "state": {
            "_model_module": "@jupyter-widgets/base",
            "_model_module_version": "1.2.0",
            "_model_name": "LayoutModel",
            "_view_count": null,
            "_view_module": "@jupyter-widgets/base",
            "_view_module_version": "1.2.0",
            "_view_name": "LayoutView",
            "align_content": null,
            "align_items": null,
            "align_self": null,
            "border": null,
            "bottom": null,
            "display": null,
            "flex": null,
            "flex_flow": null,
            "grid_area": null,
            "grid_auto_columns": null,
            "grid_auto_flow": null,
            "grid_auto_rows": null,
            "grid_column": null,
            "grid_gap": null,
            "grid_row": null,
            "grid_template_areas": null,
            "grid_template_columns": null,
            "grid_template_rows": null,
            "height": "200px",
            "justify_content": null,
            "justify_items": null,
            "left": null,
            "margin": null,
            "max_height": null,
            "max_width": null,
            "min_height": null,
            "min_width": null,
            "object_fit": null,
            "object_position": null,
            "order": null,
            "overflow": null,
            "overflow_x": null,
            "overflow_y": null,
            "padding": null,
            "right": null,
            "top": null,
            "visibility": null,
            "width": "100%"
          }
        },
        "37cddfeec79b48708ef0e1099cb844c8": {
          "model_module": "@jupyter-widgets/base",
          "model_module_version": "1.2.0",
          "model_name": "LayoutModel",
          "state": {
            "_model_module": "@jupyter-widgets/base",
            "_model_module_version": "1.2.0",
            "_model_name": "LayoutModel",
            "_view_count": null,
            "_view_module": "@jupyter-widgets/base",
            "_view_module_version": "1.2.0",
            "_view_name": "LayoutView",
            "align_content": null,
            "align_items": null,
            "align_self": null,
            "border": null,
            "bottom": null,
            "display": null,
            "flex": null,
            "flex_flow": null,
            "grid_area": null,
            "grid_auto_columns": null,
            "grid_auto_flow": null,
            "grid_auto_rows": null,
            "grid_column": null,
            "grid_gap": null,
            "grid_row": null,
            "grid_template_areas": null,
            "grid_template_columns": null,
            "grid_template_rows": null,
            "height": null,
            "justify_content": null,
            "justify_items": null,
            "left": null,
            "margin": null,
            "max_height": null,
            "max_width": null,
            "min_height": null,
            "min_width": null,
            "object_fit": null,
            "object_position": null,
            "order": null,
            "overflow": null,
            "overflow_x": null,
            "overflow_y": null,
            "padding": null,
            "right": null,
            "top": null,
            "visibility": null,
            "width": null
          }
        },
        "567fe370bd0a4349a5210d82b16af85d": {
          "model_module": "@jupyter-widgets/controls",
          "model_module_version": "1.5.0",
          "model_name": "HTMLModel",
          "state": {
            "_dom_classes": [],
            "_model_module": "@jupyter-widgets/controls",
            "_model_module_version": "1.5.0",
            "_model_name": "HTMLModel",
            "_view_count": null,
            "_view_module": "@jupyter-widgets/controls",
            "_view_module_version": "1.5.0",
            "_view_name": "HTMLView",
            "description": "",
            "description_tooltip": null,
            "layout": "IPY_MODEL_59623626512c44ceb253abd03fee545d",
            "placeholder": "​",
            "style": "IPY_MODEL_dba1daeb7205479daed053dd072db0ad",
            "value": "This code will help you select the listing numbers you want to retrieve data from Kijiji.<br>You can select up to 3 ranges from the selectorOnce a range has been selected, you would need to click on <strong>'Add New Range'</strong>.<br>After selecting all your ranges you would need to click on <strong>'Generate Numbers'</strong>. If you want to delete your selection, just clear the output of <strong>THIS CELL</strong> and run it again"
          }
        },
        "58345f2bf11b4f3fbc063e73d65ce538": {
          "model_module": "@jupyter-widgets/base",
          "model_module_version": "1.2.0",
          "model_name": "LayoutModel",
          "state": {
            "_model_module": "@jupyter-widgets/base",
            "_model_module_version": "1.2.0",
            "_model_name": "LayoutModel",
            "_view_count": null,
            "_view_module": "@jupyter-widgets/base",
            "_view_module_version": "1.2.0",
            "_view_name": "LayoutView",
            "align_content": null,
            "align_items": null,
            "align_self": null,
            "border": null,
            "bottom": null,
            "display": null,
            "flex": null,
            "flex_flow": null,
            "grid_area": null,
            "grid_auto_columns": null,
            "grid_auto_flow": null,
            "grid_auto_rows": null,
            "grid_column": null,
            "grid_gap": null,
            "grid_row": null,
            "grid_template_areas": null,
            "grid_template_columns": null,
            "grid_template_rows": null,
            "height": null,
            "justify_content": null,
            "justify_items": null,
            "left": null,
            "margin": null,
            "max_height": null,
            "max_width": null,
            "min_height": null,
            "min_width": null,
            "object_fit": null,
            "object_position": null,
            "order": null,
            "overflow": null,
            "overflow_x": null,
            "overflow_y": null,
            "padding": null,
            "right": null,
            "top": null,
            "visibility": null,
            "width": null
          }
        },
        "59623626512c44ceb253abd03fee545d": {
          "model_module": "@jupyter-widgets/base",
          "model_module_version": "1.2.0",
          "model_name": "LayoutModel",
          "state": {
            "_model_module": "@jupyter-widgets/base",
            "_model_module_version": "1.2.0",
            "_model_name": "LayoutModel",
            "_view_count": null,
            "_view_module": "@jupyter-widgets/base",
            "_view_module_version": "1.2.0",
            "_view_name": "LayoutView",
            "align_content": null,
            "align_items": null,
            "align_self": null,
            "border": null,
            "bottom": null,
            "display": null,
            "flex": null,
            "flex_flow": null,
            "grid_area": null,
            "grid_auto_columns": null,
            "grid_auto_flow": null,
            "grid_auto_rows": null,
            "grid_column": null,
            "grid_gap": null,
            "grid_row": null,
            "grid_template_areas": null,
            "grid_template_columns": null,
            "grid_template_rows": null,
            "height": null,
            "justify_content": null,
            "justify_items": null,
            "left": null,
            "margin": null,
            "max_height": null,
            "max_width": null,
            "min_height": null,
            "min_width": null,
            "object_fit": null,
            "object_position": null,
            "order": null,
            "overflow": null,
            "overflow_x": null,
            "overflow_y": null,
            "padding": null,
            "right": null,
            "top": null,
            "visibility": null,
            "width": null
          }
        },
        "603627b1498f4fa487f71074fb79c0ae": {
          "model_module": "@jupyter-widgets/controls",
          "model_module_version": "1.5.0",
          "model_name": "DescriptionStyleModel",
          "state": {
            "_model_module": "@jupyter-widgets/controls",
            "_model_module_version": "1.5.0",
            "_model_name": "DescriptionStyleModel",
            "_view_count": null,
            "_view_module": "@jupyter-widgets/base",
            "_view_module_version": "1.2.0",
            "_view_name": "StyleView",
            "description_width": ""
          }
        },
        "611a2123fa4d43fea75c5fd92223d050": {
          "model_module": "@jupyter-widgets/base",
          "model_module_version": "1.2.0",
          "model_name": "LayoutModel",
          "state": {
            "_model_module": "@jupyter-widgets/base",
            "_model_module_version": "1.2.0",
            "_model_name": "LayoutModel",
            "_view_count": null,
            "_view_module": "@jupyter-widgets/base",
            "_view_module_version": "1.2.0",
            "_view_name": "LayoutView",
            "align_content": null,
            "align_items": null,
            "align_self": null,
            "border": null,
            "bottom": null,
            "display": null,
            "flex": null,
            "flex_flow": null,
            "grid_area": null,
            "grid_auto_columns": null,
            "grid_auto_flow": null,
            "grid_auto_rows": null,
            "grid_column": null,
            "grid_gap": null,
            "grid_row": null,
            "grid_template_areas": null,
            "grid_template_columns": null,
            "grid_template_rows": null,
            "height": null,
            "justify_content": null,
            "justify_items": null,
            "left": null,
            "margin": null,
            "max_height": null,
            "max_width": null,
            "min_height": null,
            "min_width": null,
            "object_fit": null,
            "object_position": null,
            "order": null,
            "overflow": null,
            "overflow_x": null,
            "overflow_y": null,
            "padding": null,
            "right": null,
            "top": null,
            "visibility": null,
            "width": null
          }
        },
        "677e09c5693748f09d21bf828485c1a1": {
          "model_module": "@jupyter-widgets/controls",
          "model_module_version": "1.5.0",
          "model_name": "VBoxModel",
          "state": {
            "_dom_classes": [],
            "_model_module": "@jupyter-widgets/controls",
            "_model_module_version": "1.5.0",
            "_model_name": "VBoxModel",
            "_view_count": null,
            "_view_module": "@jupyter-widgets/controls",
            "_view_module_version": "1.5.0",
            "_view_name": "VBoxView",
            "box_style": "",
            "children": [
              "IPY_MODEL_2fdbfe58e211468fad514257bd8aa01c",
              "IPY_MODEL_f4c4a5282f4744d092577c138a30648a",
              "IPY_MODEL_d6f6e508133d4712af98884bd4c92d63"
            ],
            "layout": "IPY_MODEL_d30f88b5782947ca8ce1da6140c82b95"
          }
        },
        "6b579ba7103047288e256829f4e06d88": {
          "model_module": "@jupyter-widgets/controls",
          "model_module_version": "1.5.0",
          "model_name": "ButtonModel",
          "state": {
            "_dom_classes": [],
            "_model_module": "@jupyter-widgets/controls",
            "_model_module_version": "1.5.0",
            "_model_name": "ButtonModel",
            "_view_count": null,
            "_view_module": "@jupyter-widgets/controls",
            "_view_module_version": "1.5.0",
            "_view_name": "ButtonView",
            "button_style": "",
            "description": "Save as CSV",
            "disabled": false,
            "icon": "",
            "layout": "IPY_MODEL_dd8abfcc3d9b4b82893aa2f186bb18eb",
            "style": "IPY_MODEL_0f1cb61deff049668a60a73b52f0586e",
            "tooltip": "Save your data as a CSV file"
          }
        },
        "70bc039d2f04474892bbd15ce54f2e9f": {
          "model_module": "@jupyter-widgets/controls",
          "model_module_version": "1.5.0",
          "model_name": "ButtonModel",
          "state": {
            "_dom_classes": [],
            "_model_module": "@jupyter-widgets/controls",
            "_model_module_version": "1.5.0",
            "_model_name": "ButtonModel",
            "_view_count": null,
            "_view_module": "@jupyter-widgets/controls",
            "_view_module_version": "1.5.0",
            "_view_name": "ButtonView",
            "button_style": "",
            "description": "Generate Numbers",
            "disabled": false,
            "icon": "",
            "layout": "IPY_MODEL_bb38b9a123ab425f872b05d0732f31dd",
            "style": "IPY_MODEL_872b17a7f35b433d9e5193d230138822",
            "tooltip": ""
          }
        },
        "756db753a07a4275a9b99c5f2c5fd7c9": {
          "model_module": "@jupyter-widgets/base",
          "model_module_version": "1.2.0",
          "model_name": "LayoutModel",
          "state": {
            "_model_module": "@jupyter-widgets/base",
            "_model_module_version": "1.2.0",
            "_model_name": "LayoutModel",
            "_view_count": null,
            "_view_module": "@jupyter-widgets/base",
            "_view_module_version": "1.2.0",
            "_view_name": "LayoutView",
            "align_content": null,
            "align_items": null,
            "align_self": null,
            "border": null,
            "bottom": null,
            "display": null,
            "flex": null,
            "flex_flow": null,
            "grid_area": null,
            "grid_auto_columns": null,
            "grid_auto_flow": null,
            "grid_auto_rows": null,
            "grid_column": null,
            "grid_gap": null,
            "grid_row": null,
            "grid_template_areas": null,
            "grid_template_columns": null,
            "grid_template_rows": null,
            "height": null,
            "justify_content": null,
            "justify_items": null,
            "left": null,
            "margin": null,
            "max_height": null,
            "max_width": null,
            "min_height": null,
            "min_width": null,
            "object_fit": null,
            "object_position": null,
            "order": null,
            "overflow": null,
            "overflow_x": null,
            "overflow_y": null,
            "padding": null,
            "right": null,
            "top": null,
            "visibility": null,
            "width": null
          }
        },
        "7d457334f40945d4ab540046db68bcc1": {
          "model_module": "@jupyter-widgets/base",
          "model_module_version": "1.2.0",
          "model_name": "LayoutModel",
          "state": {
            "_model_module": "@jupyter-widgets/base",
            "_model_module_version": "1.2.0",
            "_model_name": "LayoutModel",
            "_view_count": null,
            "_view_module": "@jupyter-widgets/base",
            "_view_module_version": "1.2.0",
            "_view_name": "LayoutView",
            "align_content": null,
            "align_items": null,
            "align_self": null,
            "border": null,
            "bottom": null,
            "display": null,
            "flex": null,
            "flex_flow": null,
            "grid_area": null,
            "grid_auto_columns": null,
            "grid_auto_flow": null,
            "grid_auto_rows": null,
            "grid_column": null,
            "grid_gap": null,
            "grid_row": null,
            "grid_template_areas": null,
            "grid_template_columns": null,
            "grid_template_rows": null,
            "height": null,
            "justify_content": null,
            "justify_items": null,
            "left": null,
            "margin": null,
            "max_height": null,
            "max_width": null,
            "min_height": null,
            "min_width": null,
            "object_fit": null,
            "object_position": null,
            "order": null,
            "overflow": null,
            "overflow_x": null,
            "overflow_y": null,
            "padding": null,
            "right": null,
            "top": null,
            "visibility": null,
            "width": null
          }
        },
        "7f40d16da6e04693a4dc99c5da597a0e": {
          "model_module": "@jupyter-widgets/controls",
          "model_module_version": "1.5.0",
          "model_name": "DescriptionStyleModel",
          "state": {
            "_model_module": "@jupyter-widgets/controls",
            "_model_module_version": "1.5.0",
            "_model_name": "DescriptionStyleModel",
            "_view_count": null,
            "_view_module": "@jupyter-widgets/base",
            "_view_module_version": "1.2.0",
            "_view_name": "StyleView",
            "description_width": ""
          }
        },
        "802323b4258a49d8bfbce46476608c45": {
          "model_module": "@jupyter-widgets/controls",
          "model_module_version": "1.5.0",
          "model_name": "ButtonModel",
          "state": {
            "_dom_classes": [],
            "_model_module": "@jupyter-widgets/controls",
            "_model_module_version": "1.5.0",
            "_model_name": "ButtonModel",
            "_view_count": null,
            "_view_module": "@jupyter-widgets/controls",
            "_view_module_version": "1.5.0",
            "_view_name": "ButtonView",
            "button_style": "",
            "description": "Add New Range",
            "disabled": false,
            "icon": "",
            "layout": "IPY_MODEL_58345f2bf11b4f3fbc063e73d65ce538",
            "style": "IPY_MODEL_ecc7a455b2db4460a00b14076f937a49",
            "tooltip": ""
          }
        },
        "821bc5c546f346f7a79cd74eabe50788": {
          "model_module": "@jupyter-widgets/base",
          "model_module_version": "1.2.0",
          "model_name": "LayoutModel",
          "state": {
            "_model_module": "@jupyter-widgets/base",
            "_model_module_version": "1.2.0",
            "_model_name": "LayoutModel",
            "_view_count": null,
            "_view_module": "@jupyter-widgets/base",
            "_view_module_version": "1.2.0",
            "_view_name": "LayoutView",
            "align_content": null,
            "align_items": null,
            "align_self": null,
            "border": null,
            "bottom": null,
            "display": null,
            "flex": null,
            "flex_flow": null,
            "grid_area": null,
            "grid_auto_columns": null,
            "grid_auto_flow": null,
            "grid_auto_rows": null,
            "grid_column": null,
            "grid_gap": null,
            "grid_row": null,
            "grid_template_areas": null,
            "grid_template_columns": null,
            "grid_template_rows": null,
            "height": null,
            "justify_content": null,
            "justify_items": null,
            "left": null,
            "margin": null,
            "max_height": null,
            "max_width": null,
            "min_height": null,
            "min_width": null,
            "object_fit": null,
            "object_position": null,
            "order": null,
            "overflow": null,
            "overflow_x": null,
            "overflow_y": null,
            "padding": null,
            "right": null,
            "top": null,
            "visibility": null,
            "width": null
          }
        },
        "8642127ba8244c65b0345b9b9ea870f0": {
          "model_module": "@jupyter-widgets/base",
          "model_module_version": "1.2.0",
          "model_name": "LayoutModel",
          "state": {
            "_model_module": "@jupyter-widgets/base",
            "_model_module_version": "1.2.0",
            "_model_name": "LayoutModel",
            "_view_count": null,
            "_view_module": "@jupyter-widgets/base",
            "_view_module_version": "1.2.0",
            "_view_name": "LayoutView",
            "align_content": null,
            "align_items": null,
            "align_self": null,
            "border": null,
            "bottom": null,
            "display": null,
            "flex": null,
            "flex_flow": null,
            "grid_area": null,
            "grid_auto_columns": null,
            "grid_auto_flow": null,
            "grid_auto_rows": null,
            "grid_column": null,
            "grid_gap": null,
            "grid_row": null,
            "grid_template_areas": null,
            "grid_template_columns": null,
            "grid_template_rows": null,
            "height": null,
            "justify_content": null,
            "justify_items": null,
            "left": null,
            "margin": null,
            "max_height": null,
            "max_width": null,
            "min_height": null,
            "min_width": null,
            "object_fit": null,
            "object_position": null,
            "order": null,
            "overflow": null,
            "overflow_x": null,
            "overflow_y": null,
            "padding": null,
            "right": null,
            "top": null,
            "visibility": null,
            "width": "100%"
          }
        },
        "872b17a7f35b433d9e5193d230138822": {
          "model_module": "@jupyter-widgets/controls",
          "model_module_version": "1.5.0",
          "model_name": "ButtonStyleModel",
          "state": {
            "_model_module": "@jupyter-widgets/controls",
            "_model_module_version": "1.5.0",
            "_model_name": "ButtonStyleModel",
            "_view_count": null,
            "_view_module": "@jupyter-widgets/base",
            "_view_module_version": "1.2.0",
            "_view_name": "StyleView",
            "button_color": null,
            "font_weight": ""
          }
        },
        "87db55ade0fe43afa19b42ff82ab9126": {
          "model_module": "@jupyter-widgets/controls",
          "model_module_version": "1.5.0",
          "model_name": "SliderStyleModel",
          "state": {
            "_model_module": "@jupyter-widgets/controls",
            "_model_module_version": "1.5.0",
            "_model_name": "SliderStyleModel",
            "_view_count": null,
            "_view_module": "@jupyter-widgets/base",
            "_view_module_version": "1.2.0",
            "_view_name": "StyleView",
            "description_width": "",
            "handle_color": null
          }
        },
        "8d49a8e016fb4bdbbf02f096e95842fa": {
          "model_module": "@jupyter-widgets/controls",
          "model_module_version": "1.5.0",
          "model_name": "IntRangeSliderModel",
          "state": {
            "_dom_classes": [],
            "_model_module": "@jupyter-widgets/controls",
            "_model_module_version": "1.5.0",
            "_model_name": "IntRangeSliderModel",
            "_view_count": null,
            "_view_module": "@jupyter-widgets/controls",
            "_view_module_version": "1.5.0",
            "_view_name": "IntRangeSliderView",
            "continuous_update": false,
            "description": "Pick a range:",
            "description_tooltip": null,
            "disabled": false,
            "layout": "IPY_MODEL_821bc5c546f346f7a79cd74eabe50788",
            "max": 190,
            "min": 1,
            "orientation": "horizontal",
            "readout": true,
            "readout_format": "d",
            "step": 1,
            "style": "IPY_MODEL_87db55ade0fe43afa19b42ff82ab9126",
            "value": [
              1,
              10
            ]
          }
        },
        "8fe60b0a68554eeeb07247a2c141a22e": {
          "model_module": "@jupyter-widgets/controls",
          "model_module_version": "1.5.0",
          "model_name": "DescriptionStyleModel",
          "state": {
            "_model_module": "@jupyter-widgets/controls",
            "_model_module_version": "1.5.0",
            "_model_name": "DescriptionStyleModel",
            "_view_count": null,
            "_view_module": "@jupyter-widgets/base",
            "_view_module_version": "1.2.0",
            "_view_name": "StyleView",
            "description_width": ""
          }
        },
        "917c4d4aa98640ba9273b6437d0d1880": {
          "model_module": "@jupyter-widgets/controls",
          "model_module_version": "1.5.0",
          "model_name": "HTMLModel",
          "state": {
            "_dom_classes": [],
            "_model_module": "@jupyter-widgets/controls",
            "_model_module_version": "1.5.0",
            "_model_name": "HTMLModel",
            "_view_count": null,
            "_view_module": "@jupyter-widgets/controls",
            "_view_module_version": "1.5.0",
            "_view_name": "HTMLView",
            "description": "",
            "description_tooltip": null,
            "layout": "IPY_MODEL_37cddfeec79b48708ef0e1099cb844c8",
            "placeholder": "​",
            "style": "IPY_MODEL_c384ae273db842c1b07d0491700427d1",
            "value": "If you want to save your data as a CSV run this cell and include the name of the file you want, please <strong>ONLY use letter and numbers</strong>."
          }
        },
        "946380634d52405b86b1b6d608aa0b01": {
          "model_module": "@jupyter-widgets/controls",
          "model_module_version": "1.5.0",
          "model_name": "ButtonModel",
          "state": {
            "_dom_classes": [],
            "_model_module": "@jupyter-widgets/controls",
            "_model_module_version": "1.5.0",
            "_model_name": "ButtonModel",
            "_view_count": null,
            "_view_module": "@jupyter-widgets/controls",
            "_view_module_version": "1.5.0",
            "_view_name": "ButtonView",
            "button_style": "",
            "description": "Save as CSV",
            "disabled": false,
            "icon": "",
            "layout": "IPY_MODEL_7d457334f40945d4ab540046db68bcc1",
            "style": "IPY_MODEL_1b64d76b53f144abbd8325c381c7b901",
            "tooltip": "Save your data as a CSV file"
          }
        },
        "99656bde52d34a8c9c62717f2ab9503e": {
          "model_module": "@jupyter-widgets/output",
          "model_module_version": "1.0.0",
          "model_name": "OutputModel",
          "state": {
            "_dom_classes": [],
            "_model_module": "@jupyter-widgets/output",
            "_model_module_version": "1.0.0",
            "_model_name": "OutputModel",
            "_view_count": null,
            "_view_module": "@jupyter-widgets/output",
            "_view_module_version": "1.0.0",
            "_view_name": "OutputView",
            "layout": "IPY_MODEL_611a2123fa4d43fea75c5fd92223d050",
            "msg_id": "",
            "outputs": []
          }
        },
        "9c1a7e4a573a4d5f931324050e9f6be7": {
          "model_module": "@jupyter-widgets/base",
          "model_module_version": "1.2.0",
          "model_name": "LayoutModel",
          "state": {
            "_model_module": "@jupyter-widgets/base",
            "_model_module_version": "1.2.0",
            "_model_name": "LayoutModel",
            "_view_count": null,
            "_view_module": "@jupyter-widgets/base",
            "_view_module_version": "1.2.0",
            "_view_name": "LayoutView",
            "align_content": null,
            "align_items": null,
            "align_self": null,
            "border": null,
            "bottom": null,
            "display": null,
            "flex": null,
            "flex_flow": null,
            "grid_area": null,
            "grid_auto_columns": null,
            "grid_auto_flow": null,
            "grid_auto_rows": null,
            "grid_column": null,
            "grid_gap": null,
            "grid_row": null,
            "grid_template_areas": null,
            "grid_template_columns": null,
            "grid_template_rows": null,
            "height": null,
            "justify_content": null,
            "justify_items": null,
            "left": null,
            "margin": null,
            "max_height": null,
            "max_width": null,
            "min_height": null,
            "min_width": null,
            "object_fit": null,
            "object_position": null,
            "order": null,
            "overflow": null,
            "overflow_x": null,
            "overflow_y": null,
            "padding": null,
            "right": null,
            "top": null,
            "visibility": null,
            "width": null
          }
        },
        "9dec0c99cb114d3c97791dcf3037cde7": {
          "model_module": "@jupyter-widgets/controls",
          "model_module_version": "1.5.0",
          "model_name": "TextModel",
          "state": {
            "_dom_classes": [],
            "_model_module": "@jupyter-widgets/controls",
            "_model_module_version": "1.5.0",
            "_model_name": "TextModel",
            "_view_count": null,
            "_view_module": "@jupyter-widgets/controls",
            "_view_module_version": "1.5.0",
            "_view_name": "TextView",
            "continuous_update": true,
            "description": "Filename:",
            "description_tooltip": null,
            "disabled": false,
            "layout": "IPY_MODEL_756db753a07a4275a9b99c5f2c5fd7c9",
            "placeholder": "Enter filename here",
            "style": "IPY_MODEL_603627b1498f4fa487f71074fb79c0ae",
            "value": "KijijiLinks"
          }
        },
        "b164e3a996124334a2a07b91f0b82036": {
          "model_module": "@jupyter-widgets/controls",
          "model_module_version": "1.5.0",
          "model_name": "TextModel",
          "state": {
            "_dom_classes": [],
            "_model_module": "@jupyter-widgets/controls",
            "_model_module_version": "1.5.0",
            "_model_name": "TextModel",
            "_view_count": null,
            "_view_module": "@jupyter-widgets/controls",
            "_view_module_version": "1.5.0",
            "_view_name": "TextView",
            "continuous_update": true,
            "description": "Filename:",
            "description_tooltip": null,
            "disabled": false,
            "layout": "IPY_MODEL_b64e38853ee24227961fc309f59244d7",
            "placeholder": "Enter filename here",
            "style": "IPY_MODEL_7f40d16da6e04693a4dc99c5da597a0e",
            "value": "LinksRentFaster"
          }
        },
        "b3448bc34ea749a6ade79e9146198a08": {
          "model_module": "@jupyter-widgets/controls",
          "model_module_version": "1.5.0",
          "model_name": "DescriptionStyleModel",
          "state": {
            "_model_module": "@jupyter-widgets/controls",
            "_model_module_version": "1.5.0",
            "_model_name": "DescriptionStyleModel",
            "_view_count": null,
            "_view_module": "@jupyter-widgets/base",
            "_view_module_version": "1.2.0",
            "_view_name": "StyleView",
            "description_width": ""
          }
        },
        "b64e38853ee24227961fc309f59244d7": {
          "model_module": "@jupyter-widgets/base",
          "model_module_version": "1.2.0",
          "model_name": "LayoutModel",
          "state": {
            "_model_module": "@jupyter-widgets/base",
            "_model_module_version": "1.2.0",
            "_model_name": "LayoutModel",
            "_view_count": null,
            "_view_module": "@jupyter-widgets/base",
            "_view_module_version": "1.2.0",
            "_view_name": "LayoutView",
            "align_content": null,
            "align_items": null,
            "align_self": null,
            "border": null,
            "bottom": null,
            "display": null,
            "flex": null,
            "flex_flow": null,
            "grid_area": null,
            "grid_auto_columns": null,
            "grid_auto_flow": null,
            "grid_auto_rows": null,
            "grid_column": null,
            "grid_gap": null,
            "grid_row": null,
            "grid_template_areas": null,
            "grid_template_columns": null,
            "grid_template_rows": null,
            "height": null,
            "justify_content": null,
            "justify_items": null,
            "left": null,
            "margin": null,
            "max_height": null,
            "max_width": null,
            "min_height": null,
            "min_width": null,
            "object_fit": null,
            "object_position": null,
            "order": null,
            "overflow": null,
            "overflow_x": null,
            "overflow_y": null,
            "padding": null,
            "right": null,
            "top": null,
            "visibility": null,
            "width": null
          }
        },
        "bb38b9a123ab425f872b05d0732f31dd": {
          "model_module": "@jupyter-widgets/base",
          "model_module_version": "1.2.0",
          "model_name": "LayoutModel",
          "state": {
            "_model_module": "@jupyter-widgets/base",
            "_model_module_version": "1.2.0",
            "_model_name": "LayoutModel",
            "_view_count": null,
            "_view_module": "@jupyter-widgets/base",
            "_view_module_version": "1.2.0",
            "_view_name": "LayoutView",
            "align_content": null,
            "align_items": null,
            "align_self": null,
            "border": null,
            "bottom": null,
            "display": null,
            "flex": null,
            "flex_flow": null,
            "grid_area": null,
            "grid_auto_columns": null,
            "grid_auto_flow": null,
            "grid_auto_rows": null,
            "grid_column": null,
            "grid_gap": null,
            "grid_row": null,
            "grid_template_areas": null,
            "grid_template_columns": null,
            "grid_template_rows": null,
            "height": null,
            "justify_content": null,
            "justify_items": null,
            "left": null,
            "margin": null,
            "max_height": null,
            "max_width": null,
            "min_height": null,
            "min_width": null,
            "object_fit": null,
            "object_position": null,
            "order": null,
            "overflow": null,
            "overflow_x": null,
            "overflow_y": null,
            "padding": null,
            "right": null,
            "top": null,
            "visibility": null,
            "width": null
          }
        },
        "bcebc2d3bd024953903aef5bba1dd4e2": {
          "model_module": "@jupyter-widgets/controls",
          "model_module_version": "1.5.0",
          "model_name": "DescriptionStyleModel",
          "state": {
            "_model_module": "@jupyter-widgets/controls",
            "_model_module_version": "1.5.0",
            "_model_name": "DescriptionStyleModel",
            "_view_count": null,
            "_view_module": "@jupyter-widgets/base",
            "_view_module_version": "1.2.0",
            "_view_name": "StyleView",
            "description_width": ""
          }
        },
        "c384ae273db842c1b07d0491700427d1": {
          "model_module": "@jupyter-widgets/controls",
          "model_module_version": "1.5.0",
          "model_name": "DescriptionStyleModel",
          "state": {
            "_model_module": "@jupyter-widgets/controls",
            "_model_module_version": "1.5.0",
            "_model_name": "DescriptionStyleModel",
            "_view_count": null,
            "_view_module": "@jupyter-widgets/base",
            "_view_module_version": "1.2.0",
            "_view_name": "StyleView",
            "description_width": ""
          }
        },
        "d30f88b5782947ca8ce1da6140c82b95": {
          "model_module": "@jupyter-widgets/base",
          "model_module_version": "1.2.0",
          "model_name": "LayoutModel",
          "state": {
            "_model_module": "@jupyter-widgets/base",
            "_model_module_version": "1.2.0",
            "_model_name": "LayoutModel",
            "_view_count": null,
            "_view_module": "@jupyter-widgets/base",
            "_view_module_version": "1.2.0",
            "_view_name": "LayoutView",
            "align_content": null,
            "align_items": null,
            "align_self": null,
            "border": null,
            "bottom": null,
            "display": null,
            "flex": null,
            "flex_flow": null,
            "grid_area": null,
            "grid_auto_columns": null,
            "grid_auto_flow": null,
            "grid_auto_rows": null,
            "grid_column": null,
            "grid_gap": null,
            "grid_row": null,
            "grid_template_areas": null,
            "grid_template_columns": null,
            "grid_template_rows": null,
            "height": null,
            "justify_content": null,
            "justify_items": null,
            "left": null,
            "margin": null,
            "max_height": null,
            "max_width": null,
            "min_height": null,
            "min_width": null,
            "object_fit": null,
            "object_position": null,
            "order": null,
            "overflow": null,
            "overflow_x": null,
            "overflow_y": null,
            "padding": null,
            "right": null,
            "top": null,
            "visibility": null,
            "width": null
          }
        },
        "d6f6e508133d4712af98884bd4c92d63": {
          "model_module": "@jupyter-widgets/controls",
          "model_module_version": "1.5.0",
          "model_name": "TextModel",
          "state": {
            "_dom_classes": [],
            "_model_module": "@jupyter-widgets/controls",
            "_model_module_version": "1.5.0",
            "_model_name": "TextModel",
            "_view_count": null,
            "_view_module": "@jupyter-widgets/controls",
            "_view_module_version": "1.5.0",
            "_view_name": "TextView",
            "continuous_update": true,
            "description": "Selected:",
            "description_tooltip": null,
            "disabled": false,
            "layout": "IPY_MODEL_8642127ba8244c65b0345b9b9ea870f0",
            "placeholder": "Selected options will appear here",
            "style": "IPY_MODEL_bcebc2d3bd024953903aef5bba1dd4e2",
            "value": "edmonton, red-deer, airdrie, lethbridge, camrose, spruce-grove"
          }
        },
        "d9cdefa90bb24719abd5d27b892bb9ff": {
          "model_module": "@jupyter-widgets/controls",
          "model_module_version": "1.5.0",
          "model_name": "HTMLModel",
          "state": {
            "_dom_classes": [],
            "_model_module": "@jupyter-widgets/controls",
            "_model_module_version": "1.5.0",
            "_model_name": "HTMLModel",
            "_view_count": null,
            "_view_module": "@jupyter-widgets/controls",
            "_view_module_version": "1.5.0",
            "_view_name": "HTMLView",
            "description": "",
            "description_tooltip": null,
            "layout": "IPY_MODEL_098986b14a23403c82d7ab18cc9cfeb3",
            "placeholder": "​",
            "style": "IPY_MODEL_b3448bc34ea749a6ade79e9146198a08",
            "value": "If will need to save your URLs data as a CSV, please run this cell and include the name of the file you want, <strong>ONLY use letter and numbers</strong>."
          }
        },
        "dba1daeb7205479daed053dd072db0ad": {
          "model_module": "@jupyter-widgets/controls",
          "model_module_version": "1.5.0",
          "model_name": "DescriptionStyleModel",
          "state": {
            "_model_module": "@jupyter-widgets/controls",
            "_model_module_version": "1.5.0",
            "_model_name": "DescriptionStyleModel",
            "_view_count": null,
            "_view_module": "@jupyter-widgets/base",
            "_view_module_version": "1.2.0",
            "_view_name": "StyleView",
            "description_width": ""
          }
        },
        "dc92d1dc836e43e4b0c264ec05e7712f": {
          "model_module": "@jupyter-widgets/output",
          "model_module_version": "1.0.0",
          "model_name": "OutputModel",
          "state": {
            "_dom_classes": [],
            "_model_module": "@jupyter-widgets/output",
            "_model_module_version": "1.0.0",
            "_model_name": "OutputModel",
            "_view_count": null,
            "_view_module": "@jupyter-widgets/output",
            "_view_module_version": "1.0.0",
            "_view_name": "OutputView",
            "layout": "IPY_MODEL_2662e5ffa0904ffe9ea86e84ed0feff5",
            "msg_id": "",
            "outputs": []
          }
        },
        "dd8abfcc3d9b4b82893aa2f186bb18eb": {
          "model_module": "@jupyter-widgets/base",
          "model_module_version": "1.2.0",
          "model_name": "LayoutModel",
          "state": {
            "_model_module": "@jupyter-widgets/base",
            "_model_module_version": "1.2.0",
            "_model_name": "LayoutModel",
            "_view_count": null,
            "_view_module": "@jupyter-widgets/base",
            "_view_module_version": "1.2.0",
            "_view_name": "LayoutView",
            "align_content": null,
            "align_items": null,
            "align_self": null,
            "border": null,
            "bottom": null,
            "display": null,
            "flex": null,
            "flex_flow": null,
            "grid_area": null,
            "grid_auto_columns": null,
            "grid_auto_flow": null,
            "grid_auto_rows": null,
            "grid_column": null,
            "grid_gap": null,
            "grid_row": null,
            "grid_template_areas": null,
            "grid_template_columns": null,
            "grid_template_rows": null,
            "height": null,
            "justify_content": null,
            "justify_items": null,
            "left": null,
            "margin": null,
            "max_height": null,
            "max_width": null,
            "min_height": null,
            "min_width": null,
            "object_fit": null,
            "object_position": null,
            "order": null,
            "overflow": null,
            "overflow_x": null,
            "overflow_y": null,
            "padding": null,
            "right": null,
            "top": null,
            "visibility": null,
            "width": null
          }
        },
        "de30d51057cf462d86c6811970837df1": {
          "model_module": "@jupyter-widgets/output",
          "model_module_version": "1.0.0",
          "model_name": "OutputModel",
          "state": {
            "_dom_classes": [],
            "_model_module": "@jupyter-widgets/output",
            "_model_module_version": "1.0.0",
            "_model_name": "OutputModel",
            "_view_count": null,
            "_view_module": "@jupyter-widgets/output",
            "_view_module_version": "1.0.0",
            "_view_name": "OutputView",
            "layout": "IPY_MODEL_9c1a7e4a573a4d5f931324050e9f6be7",
            "msg_id": "",
            "outputs": []
          }
        },
        "e66104168b56480a9d1c44c12a370c33": {
          "model_module": "@jupyter-widgets/base",
          "model_module_version": "1.2.0",
          "model_name": "LayoutModel",
          "state": {
            "_model_module": "@jupyter-widgets/base",
            "_model_module_version": "1.2.0",
            "_model_name": "LayoutModel",
            "_view_count": null,
            "_view_module": "@jupyter-widgets/base",
            "_view_module_version": "1.2.0",
            "_view_name": "LayoutView",
            "align_content": null,
            "align_items": null,
            "align_self": null,
            "border": null,
            "bottom": null,
            "display": null,
            "flex": null,
            "flex_flow": null,
            "grid_area": null,
            "grid_auto_columns": null,
            "grid_auto_flow": null,
            "grid_auto_rows": null,
            "grid_column": null,
            "grid_gap": null,
            "grid_row": null,
            "grid_template_areas": null,
            "grid_template_columns": null,
            "grid_template_rows": null,
            "height": null,
            "justify_content": null,
            "justify_items": null,
            "left": null,
            "margin": null,
            "max_height": null,
            "max_width": null,
            "min_height": null,
            "min_width": null,
            "object_fit": null,
            "object_position": null,
            "order": null,
            "overflow": null,
            "overflow_x": null,
            "overflow_y": null,
            "padding": null,
            "right": null,
            "top": null,
            "visibility": null,
            "width": null
          }
        },
        "ecc7a455b2db4460a00b14076f937a49": {
          "model_module": "@jupyter-widgets/controls",
          "model_module_version": "1.5.0",
          "model_name": "ButtonStyleModel",
          "state": {
            "_model_module": "@jupyter-widgets/controls",
            "_model_module_version": "1.5.0",
            "_model_name": "ButtonStyleModel",
            "_view_count": null,
            "_view_module": "@jupyter-widgets/base",
            "_view_module_version": "1.2.0",
            "_view_name": "StyleView",
            "button_color": null,
            "font_weight": ""
          }
        },
        "f4c4a5282f4744d092577c138a30648a": {
          "model_module": "@jupyter-widgets/controls",
          "model_module_version": "1.5.0",
          "model_name": "SelectMultipleModel",
          "state": {
            "_dom_classes": [],
            "_model_module": "@jupyter-widgets/controls",
            "_model_module_version": "1.5.0",
            "_model_name": "SelectMultipleModel",
            "_options_labels": [
              "edmonton",
              "calgary",
              "cochrane",
              "red-deer",
              "fort-mcmurray",
              "airdrie",
              "wetaskiwin",
              "lethbridge",
              "camrose",
              "spruce-grove",
              "okotoks",
              "chestermere",
              "bonnyville",
              "st-albert",
              "sylvan-lake",
              "beaumont",
              "morinville",
              "leduc",
              "grande-prairie",
              "peace-river",
              "strathmore",
              "edson",
              "wainwright",
              "olds",
              "ponoka"
            ],
            "_view_count": null,
            "_view_module": "@jupyter-widgets/controls",
            "_view_module_version": "1.5.0",
            "_view_name": "SelectMultipleView",
            "description": "Locations",
            "description_tooltip": null,
            "disabled": false,
            "index": [
              0,
              3,
              5,
              7,
              8,
              9
            ],
            "layout": "IPY_MODEL_33c272153af844b99d8820faf1ffe16d",
            "rows": 5,
            "style": "IPY_MODEL_296f185b3864440191edad27d4234c0a"
          }
        }
      }
    }
  },
  "nbformat": 4,
  "nbformat_minor": 5
}
